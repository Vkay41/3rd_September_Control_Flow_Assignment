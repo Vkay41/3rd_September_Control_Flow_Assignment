{
 "cells": [
  {
   "cell_type": "code",
   "execution_count": 1,
   "id": "22f11e20-d07e-49a1-99b7-68bf11581b68",
   "metadata": {},
   "outputs": [],
   "source": [
    "##Control Flow Assignment Questions"
   ]
  },
  {
   "cell_type": "code",
   "execution_count": 1,
   "id": "16365a7c-6275-4006-afea-b70c2a623177",
   "metadata": {},
   "outputs": [
    {
     "name": "stdin",
     "output_type": "stream",
     "text": [
      "Enter number:  -77\n"
     ]
    },
    {
     "name": "stdout",
     "output_type": "stream",
     "text": [
      "Number is negative\n"
     ]
    }
   ],
   "source": [
    "#Q1. Write a Python program that checks if a given number is positive, negative, or zero.\n",
    "\n",
    "\n",
    "n=int(input(\"Enter number: \"))\n",
    "if(n>0):\n",
    "    print(\"Number is positive\")\n",
    "else:\n",
    "    print(\"Number is negative\")"
   ]
  },
  {
   "cell_type": "markdown",
   "id": "c07b7b92-c7d4-4d22-b155-cf2b9342fe38",
   "metadata": {},
   "source": [
    "1. User must first enter the value and store it in a variable.\n",
    "\n",
    "2. Use an if statement to make a decision.\n",
    "\n",
    "3. If the value of the number is greater than 0, “Number is positive” is printed.\n",
    "\n",
    "4. If the value of the number if lesser than 0, ”Number is negative” is negative."
   ]
  },
  {
   "cell_type": "code",
   "execution_count": 1,
   "id": "667df6ce-7e49-46a2-81b7-e6068336ecf1",
   "metadata": {},
   "outputs": [
    {
     "name": "stdin",
     "output_type": "stream",
     "text": [
      "Enter age :  31\n"
     ]
    },
    {
     "name": "stdout",
     "output_type": "stream",
     "text": [
      "Eligible for Voting!\n"
     ]
    }
   ],
   "source": [
    "#Q2. Create a program to determine if a person is eligible to vote based on their age\n",
    "\n",
    "\n",
    "age = int(input(\"Enter age : \"))\n",
    "\n",
    "\n",
    "if age >= 18:\n",
    "    print(\"Eligible for Voting!\")\n",
    "else:\n",
    "    print(\"Not Eligible for Voting!\")"
   ]
  },
  {
   "cell_type": "markdown",
   "id": "8d20adb7-5800-46b0-bb1f-5c0ce47bd3a6",
   "metadata": {},
   "source": [
    "1. User must first enter the value and store it in a variable.\n",
    "\n",
    "2. Use an if statement to make a decision.\n",
    "\n",
    "3. If the value of the number is greater than 18, Eligible for Voting.\n",
    "\n",
    "4. If the value of the number if lesser than 18, Not Eligible for Voting!."
   ]
  },
  {
   "cell_type": "code",
   "execution_count": 4,
   "id": "cd719f20-b649-4a32-8764-0f4bf6e60c16",
   "metadata": {},
   "outputs": [
    {
     "name": "stdin",
     "output_type": "stream",
     "text": [
      "Enter a number:  77\n",
      "Enter a number:  88\n"
     ]
    },
    {
     "name": "stdout",
     "output_type": "stream",
     "text": [
      "88 is a maximum number\n"
     ]
    }
   ],
   "source": [
    "#Q3. Write a program to find the maximum of two given numbers using conditional statements.\n",
    "\n",
    "\n",
    "a=int(input(\"Enter a number: \"))\n",
    "b=int(input(\"Enter a number: \"))\n",
    "if a>b:\n",
    "    print(a,' is a maximum number')\n",
    "else:\n",
    "    print(b,'is a maximum number')"
   ]
  },
  {
   "cell_type": "markdown",
   "id": "62fa4e85-821a-4365-9712-8d01b3107322",
   "metadata": {},
   "source": [
    "This program will get the two inputs from the user to get a maximum element from the given inputs. \n",
    "\n",
    "In an, if statement we are giving a condition like if a>b, print this statement.\n",
    "\n",
    "If not, print the else statement. So it will take the input and print the result after checking with a given condition."
   ]
  },
  {
   "cell_type": "code",
   "execution_count": 8,
   "id": "94d9a80f-727d-4fc0-b300-4fc724fdd285",
   "metadata": {},
   "outputs": [
    {
     "name": "stdin",
     "output_type": "stream",
     "text": [
      "Enter your exam score:  234\n"
     ]
    },
    {
     "name": "stdout",
     "output_type": "stream",
     "text": [
      "Your grade is F\n"
     ]
    }
   ],
   "source": [
    "#Q4. Develop a program that calculates the grade of a student based on their exam score.\n",
    "\n",
    "\n",
    "score = float(input(\"Enter your exam score: \"))\n",
    "exam_score=score/5\n",
    "\n",
    "\n",
    "if exam_score >= 90:\n",
    "    grade = \"A\"\n",
    "elif exam_score >= 80:\n",
    "    grade = \"B\"\n",
    "elif exam_score >= 70:\n",
    "    grade = \"C\"\n",
    "elif exam_score >= 60:\n",
    "    grade = \"D\"\n",
    "else:\n",
    "    grade = \"F\"\n",
    "\n",
    "# Print the student's grade.\n",
    "print(\"Your grade is\", grade)"
   ]
  },
  {
   "cell_type": "markdown",
   "id": "904285a3-2103-4a12-907c-d3b8b3b1c77c",
   "metadata": {},
   "source": [
    "This program first gets the student's exam score from the user and calculate the percentage . Then, it calculates the student's grade based on the following grading scale:\n",
    "    \n",
    "              90-100: A\n",
    "              \n",
    "              80-89: B\n",
    "              \n",
    "              70-79: C\n",
    "              \n",
    "              60-69: D\n",
    "            \n",
    "              Below 60: F\n",
    "\n",
    "Finally, the program prints the student's grade to the console.\n",
    "\n",
    "Here is an example of how the program would work:"
   ]
  },
  {
   "cell_type": "code",
   "execution_count": 9,
   "id": "df72cf66-df97-48fb-ace0-c3456d46eb22",
   "metadata": {},
   "outputs": [
    {
     "name": "stdin",
     "output_type": "stream",
     "text": [
      "Enter year to be checked: 1605\n"
     ]
    },
    {
     "name": "stdout",
     "output_type": "stream",
     "text": [
      "The year isn't a leap year!\n"
     ]
    }
   ],
   "source": [
    "#Q5. Create a program that checks if a year is a leap year or not\n",
    "\n",
    "year=int(input(\"Enter year to be checked:\"))\n",
    "if(year%4==0 and year%100!=0 or year%400==0):\n",
    "    print(\"The year is a leap year!\")\n",
    "else:\n",
    "    print(\"The year isn't a leap year!\")"
   ]
  },
  {
   "cell_type": "markdown",
   "id": "f36c1cb0-3f27-4e45-ab84-7899158dbc30",
   "metadata": {},
   "source": [
    "1. User must first enter the year to be checked.\n",
    "\n",
    "2. The if statement checks if the year is a multiple of 4 but isn’t a multiple of 100 or if it is a multiple of 400 (not every year that is a multiple of 4 is a leap year).\n",
    "\n",
    "3. If the statment is true then leap year else not a leap year.Then the result is printed."
   ]
  },
  {
   "cell_type": "code",
   "execution_count": 10,
   "id": "945ec2ee-0ea5-45e4-9714-4eea2ce95439",
   "metadata": {},
   "outputs": [
    {
     "name": "stdin",
     "output_type": "stream",
     "text": [
      "Enter the first side length : 6\n",
      "Enter the second side length : 7\n",
      "Enter the Third side length  : 8\n"
     ]
    },
    {
     "name": "stdout",
     "output_type": "stream",
     "text": [
      ":: Scalene ::\n"
     ]
    }
   ],
   "source": [
    "#Q6. Write a program to classify a triangle based on its sides' lengths\n",
    "\n",
    "y=int(input(\"Enter the first side length :\"))\n",
    "z=int(input(\"Enter the second side length :\"))\n",
    "x=int(input(\"Enter the Third side length  :\"))\n",
    "if x==y and y==z:\n",
    "    print(\":: Equilateral ::\")\n",
    "elif x==y or y==z or x==z:\n",
    "    print(\":: Isosceles ::\")\n",
    "else:\n",
    "    print(\":: Scalene ::\")"
   ]
  },
  {
   "cell_type": "markdown",
   "id": "b3c196ce-b847-4e1f-b9cf-f930c496356f",
   "metadata": {},
   "source": [
    "We will define a function and implement the following with the help of conditional statement:\n",
    "\n",
    "                        if all three sides are equal then it will be printed as An equilateral triangle\n",
    "\n",
    "                        else  at least two equal sides will be printed as An isosceles triangle\n",
    "                        \n",
    "                        else A scalene triangle\n",
    "                    \n",
    "Now in the the drivers code take 3 variale and take input from the user & call the function."
   ]
  },
  {
   "cell_type": "code",
   "execution_count": 12,
   "id": "88c8420d-eeba-43ce-b43e-baa20b048317",
   "metadata": {},
   "outputs": [
    {
     "name": "stdin",
     "output_type": "stream",
     "text": [
      "Enter First number :  33\n",
      "Enter Second number :  33\n",
      "Enter Third number :  22\n"
     ]
    }
   ],
   "source": [
    "#Q7. Build a program that determines the largest of three given numbers.\n",
    "\n",
    "def largest(num1, num2, num3):\n",
    "    if (num1 > num2) and (num1 > num3):\n",
    "        largest_num = num1\n",
    "    elif (num2 > num1) and (num2 > num3):\n",
    "        largest_num = num2\n",
    "    else:\n",
    "        largest_num = num3\n",
    "    print(\"The largest of the 3 numbers is : \", largest_num)\n",
    "\n",
    "          \n",
    "number1 = int(input('Enter First number : '))\n",
    "number2 = int(input('Enter Second number : '))\n",
    "number3 = int(input('Enter Third number : '))"
   ]
  },
  {
   "cell_type": "markdown",
   "id": "cb08cfea-229c-4c5d-a41e-bfdaa3a73c52",
   "metadata": {},
   "source": [
    "Use function largest(num1, num2, num3)\n",
    "\n",
    "check if num1 is larger than num1 and num2, if true num1 is largest, else\n",
    "\n",
    "check if num2 is larger than num1 and num3, if true num2 is largest,\n",
    "\n",
    "if both the above fails, num3 is largest\n",
    "\n",
    "Print the largest number"
   ]
  },
  {
   "cell_type": "code",
   "execution_count": 13,
   "id": "790fa8c7-1b1f-47db-9d03-4009c4676d39",
   "metadata": {},
   "outputs": [
    {
     "name": "stdin",
     "output_type": "stream",
     "text": [
      "Enter the character :  h\n"
     ]
    },
    {
     "name": "stdout",
     "output_type": "stream",
     "text": [
      ":::: Consonant ::::\n"
     ]
    }
   ],
   "source": [
    "#Q8. Develop a program that checks whether a character is a vowel or a consonant.\n",
    "\n",
    "n=str(input(\"Enter the character : \"))\n",
    "vowels=\"AEIOUaeiou\"\n",
    "if n in vowels:\n",
    "    print(\":::: Vowel ::::\")\n",
    "else:\n",
    "    print(\":::: Consonant ::::\")"
   ]
  },
  {
   "cell_type": "markdown",
   "id": "29f4f335-b4a4-4582-a939-677a0ce043b3",
   "metadata": {},
   "source": [
    "1. Take the value of the string character and store in a variable.\n",
    "\n",
    "2. now Use an if statement to determine whether character is a vowel or a consonant. if true then vowel else constant.\n",
    "\n",
    "3. Exit."
   ]
  },
  {
   "cell_type": "code",
   "execution_count": 14,
   "id": "a87cb551-0e4e-467e-b238-c92ef08fa296",
   "metadata": {},
   "outputs": [
    {
     "name": "stdin",
     "output_type": "stream",
     "text": [
      "Enter the total value you want to check discount on  : 5500\n"
     ]
    },
    {
     "name": "stdout",
     "output_type": "stream",
     "text": [
      ":: Discounted Amount :: 4675.0\n"
     ]
    }
   ],
   "source": [
    "#Q9. Create a program to calculate the total cost of a shopping cart based on discounts\n",
    "\n",
    "def check_discount(x):\n",
    "    if x>0 and x<1000:\n",
    "        print(\":: Discounted Amount ::\",x*0.95)\n",
    "    elif x>1000 and x<3000:\n",
    "        print(\":: Discounted Amount ::\",x*0.90)\n",
    "    elif x>3000 and x<10000:\n",
    "        print(\":: Discounted Amount ::\",x*0.85)\n",
    "    elif x>10000:\n",
    "        print(\":: Discounted Amount ::\",x*0.75)\n",
    "    else:\n",
    "        print(\":: The Price is invalid ::\")\n",
    "        \n",
    "x=int(input(\"Enter the total value you want to check discount on  :\"))\n",
    "check_discount(x)"
   ]
  },
  {
   "cell_type": "markdown",
   "id": "ce0b56ce-9450-4cf4-9b61-b906b3b52182",
   "metadata": {},
   "source": [
    "Firstly take a input from user and store in a varible \n",
    "\n",
    "Now call the function check_discount with argument x.\n",
    "\n",
    "In function check the discount  with the help of conditional element.\n",
    "\n",
    "Now according to the conditional staments print the  discount value according to the purchase amount  ."
   ]
  },
  {
   "cell_type": "code",
   "execution_count": 16,
   "id": "bc892102-c089-4a68-9771-b90cbfdc5d3a",
   "metadata": {},
   "outputs": [
    {
     "name": "stdin",
     "output_type": "stream",
     "text": [
      "Enter a Number: 98074\n"
     ]
    },
    {
     "name": "stdout",
     "output_type": "stream",
     "text": [
      "Given number is Even\n"
     ]
    }
   ],
   "source": [
    "#Q10. Write a program that checks if a given number is even or odd.\n",
    "\n",
    "num = int(input(\"Enter a Number:\")) \n",
    "if num % 2 == 0: \n",
    "  print(\"Given number is Even\") \n",
    "else: \n",
    "  print(\"Given number is Odd\")"
   ]
  },
  {
   "cell_type": "markdown",
   "id": "32c3bf0f-1240-45c5-b84a-5b28c40c0eab",
   "metadata": {},
   "source": [
    "Start\n",
    "\n",
    "Insert a number.\n",
    "\n",
    "If the given number is divisible by 2, then print,” Given number is even”.\n",
    "\n",
    "If the given number is not divisible by 2, then print ,”Given number is odd”.\n",
    "\n",
    "Stop"
   ]
  },
  {
   "cell_type": "code",
   "execution_count": 17,
   "id": "b0b8066d-080a-4a9e-905f-87184eb3060f",
   "metadata": {},
   "outputs": [],
   "source": [
    "#Intermediate Level:"
   ]
  },
  {
   "cell_type": "code",
   "execution_count": 18,
   "id": "10410a65-746d-4bec-b3dc-904cc9a44494",
   "metadata": {},
   "outputs": [
    {
     "name": "stdout",
     "output_type": "stream",
     "text": [
      "Equation: ax^2 + bx + c \n"
     ]
    },
    {
     "name": "stdin",
     "output_type": "stream",
     "text": [
      "Enter a:  3\n",
      "Enter b:  5\n",
      "Enter c:  4\n"
     ]
    },
    {
     "name": "stdout",
     "output_type": "stream",
     "text": [
      "The roots are imaginary. \n"
     ]
    }
   ],
   "source": [
    "#Q11. Write a program that calculates the roots of a quadratic equation .\n",
    "\n",
    "\n",
    "\n",
    "print(\"Equation: ax^2 + bx + c \")\n",
    "a=int(input(\"Enter a: \"))\n",
    "b=int(input(\"Enter b: \"))\n",
    "c=int(input(\"Enter c: \"))\n",
    "d=b**2-4*a*c\n",
    "d1=d**0.5\n",
    "if(d<0):\n",
    "    print(\"The roots are imaginary. \")\n",
    "else:\n",
    "    r1=(-b+d1)/2*a\n",
    "    r2=(-b-d1)/2*a\n",
    "    print(\"The first root: \",round(r1,2))\n",
    "    print(\"The second root: \",round(r2,2))"
   ]
  },
  {
   "cell_type": "markdown",
   "id": "9bdf8cd8-f66a-479e-a34d-4178c482d5de",
   "metadata": {},
   "source": [
    "1. User must enter the coefficients of the equations and store it in three separate variables.\n",
    "\n",
    "2. The value value of the discriminant, d, is found out which determines the nature of roots of the equation.\n",
    "\n",
    "3. If the value of the discriminant is lesser than 0, the roots are imaginary.\n",
    "\n",
    "4. If the value of the discriminant is greater than 0, the roots aren’t imaginary.\n",
    "\n",
    "5. The value of the roots is found out using the quadratic formula.\n",
    "\n",
    "6. The roots of the equation are printed."
   ]
  },
  {
   "cell_type": "code",
   "execution_count": 20,
   "id": "de823556-e942-4226-b23c-7676f24c16f7",
   "metadata": {},
   "outputs": [
    {
     "name": "stdin",
     "output_type": "stream",
     "text": [
      "Enter a number from 1 to 7:  4\n"
     ]
    },
    {
     "name": "stdout",
     "output_type": "stream",
     "text": [
      "4 is Wednesday\n"
     ]
    }
   ],
   "source": [
    "#Q12. Create a program that determines the day of the week based on the day number (1-7).\n",
    "\n",
    "\n",
    "\n",
    "day = int(input(\"Enter a number from 1 to 7: \"))\n",
    "\n",
    "if day == 1:\n",
    "    print(day, \"is Sunday\")\n",
    "elif day == 2:\n",
    "    print(day, \"is Monday\")\n",
    "elif day == 3:\n",
    "    print(day, \"is Tuesday\")\n",
    "elif day == 4:\n",
    "    print(day, \"is Wednesday\")\n",
    "elif day == 5:\n",
    "    print(day, \"is Thursday\")\n",
    "elif day == 6:\n",
    "    print(day, \"is Friday\")\n",
    "elif day == 7:\n",
    "    print(day, \"is Saturday\")\n",
    "else:\n",
    "    print(\"Wrong input! Please enter a number from 1 to 7.\")"
   ]
  },
  {
   "cell_type": "markdown",
   "id": "39c86112-7ad4-4ca3-b911-a6d50c7405e9",
   "metadata": {},
   "source": [
    "To implement this, we need to take input from the user and store it in a variable.\n",
    "\n",
    "After taking input from the user, we have to compare that number with 1 to 7, or we can say, compare that number with a day of the week.\n",
    "\n",
    "So the logic goes like– if the number is equal to 1, then it is Monday, if the number is 2, then it is Tuesday; like that, we have to compare with each day of the week.\n"
   ]
  },
  {
   "cell_type": "code",
   "execution_count": 26,
   "id": "a8fe8c84-6f09-4061-b884-1a8566e0cc1a",
   "metadata": {},
   "outputs": [
    {
     "name": "stdin",
     "output_type": "stream",
     "text": [
      "Enter the number :  5\n"
     ]
    },
    {
     "data": {
      "text/plain": [
       "120"
      ]
     },
     "execution_count": 26,
     "metadata": {},
     "output_type": "execute_result"
    }
   ],
   "source": [
    "#Q13. Develop a program that calculates the factorial of a given number using recursion\n",
    "\n",
    "\n",
    "def fact_rec(n):\n",
    "    if n==1:\n",
    "        return n\n",
    "    else:\n",
    "        return n*fact_rec(n-1)\n",
    "            \n",
    "        \n",
    "        \n",
    "n=int(input(\"Enter the number : \"))\n",
    "fact_rec(n)"
   ]
  },
  {
   "cell_type": "markdown",
   "id": "97a8a360-8407-433c-a744-e84697ae5cc1",
   "metadata": {},
   "source": [
    "Firstly Create a function fact_rec with argument n with base condition n==1.\n",
    "\n",
    "Now with the help of else statement call the recursively to determine the variable.\n",
    "\n",
    "In the drivers code take variable for user input and call then function."
   ]
  },
  {
   "cell_type": "code",
   "execution_count": 27,
   "id": "83034e95-9ac1-4873-906b-e827c50fb5ff",
   "metadata": {},
   "outputs": [
    {
     "name": "stdin",
     "output_type": "stream",
     "text": [
      "Enter the first number  : 33\n",
      "Enter the second number  : 22\n",
      "Enter the third number: 33\n"
     ]
    },
    {
     "name": "stdout",
     "output_type": "stream",
     "text": [
      ":: x & z is the greatest ::\n"
     ]
    }
   ],
   "source": [
    "#Q14. Write a program to find the largest among three numbers without using the `max()` function\n",
    "\n",
    "\n",
    "def greater_3(x,y,z):\n",
    "    if x > y and x>z:\n",
    "        print(\":: x is the greatest ::\")\n",
    "    elif y>x and y>z:\n",
    "         print(\":: y is the greatest ::\")\n",
    "    elif z>x and z>y:\n",
    "         print(\":: z is the greatest ::\")\n",
    "    elif x==y or y==z or x==z:\n",
    "        if x==y and y>z:\n",
    "            print(\":: x & y is the greatest ::\")\n",
    "        elif x==z and y<z:\n",
    "            print(\":: x & z is the greatest ::\")\n",
    "        else:\n",
    "            print(\":: z & y is the greatest ::\")\n",
    "    else:\n",
    "        print(\":: All are equal ::\")\n",
    "        \n",
    "        \n",
    "x=int(input(\"Enter the first number  :\"))\n",
    "y=int(input(\"Enter the second number  :\"))\n",
    "z=int(input(\"Enter the third number:\"))\n",
    "greater_3(x,y,z)"
   ]
  },
  {
   "cell_type": "markdown",
   "id": "6c49f3c1-79e8-4fd3-b812-8c7ed54bc677",
   "metadata": {},
   "source": [
    "In this method, we manually compare each of the numbers from the other numbers to find the maximum or the largest among them.\n",
    "\n",
    "We will define a function and implement the following with the help of conditional statement:\n",
    "        \n",
    "                            if n1 is greater than both n2 and n3 then it will be printed as largest\n",
    "\n",
    "                            else if n2 is greater than both n1 and n3 then n2 will be printed as largest\n",
    "\n",
    "                            else n3 is greater than both n1 and n2 then n3 will be printed as largest\n",
    "                            \n",
    "                            else if x is equal to y & both are greater than z then print them as largest or y is equal to z & \n",
    "                            both are greater than x then print them as largest or x is equal to z & both are greater than y \n",
    "                            then print them as largest\n",
    "                            \n",
    "                            else all are equal\n",
    "\n",
    "Now in the the drivers code take 3 variable and take input from the user & call the function."
   ]
  },
  {
   "cell_type": "code",
   "execution_count": 32,
   "id": "6c7d3d3e-dbb9-48de-a549-6a8e903a8f9d",
   "metadata": {},
   "outputs": [
    {
     "name": "stdout",
     "output_type": "stream",
     "text": [
      "1. Check balance\n",
      "2. Withdraw\n",
      "3. Deposit\n",
      "4. Exit\n"
     ]
    },
    {
     "name": "stdin",
     "output_type": "stream",
     "text": [
      "Enter your choice:  1\n"
     ]
    },
    {
     "name": "stdout",
     "output_type": "stream",
     "text": [
      "Your account balance is :  80742\n"
     ]
    }
   ],
   "source": [
    "#Q15. Create a program that simulates a basic ATM transaction menu.\n",
    "\n",
    "import random\n",
    "\n",
    "print(\"1. Check balance\")\n",
    "print(\"2. Withdraw\")\n",
    "print(\"3. Deposit\")\n",
    "print(\"4. Exit\")\n",
    "\n",
    "choice = input(\"Enter your choice: \")\n",
    "random_integer = random.randint(1000, 100000)\n",
    "\n",
    "\n",
    "if choice == \"1\":\n",
    "    print(\"Your account balance is : \",random_integer)\n",
    "elif choice == \"2\":\n",
    "    amount = int(input(\"Enter the amount to withdraw: \"))\n",
    "    print(amount,\"Amount debited from your account . Please collect your cash \")\n",
    "elif choice == \"3\":\n",
    "    amount = int(input(\"Enter the amount to deposit: \"))\n",
    "    print(amount,\"Amount credited from your account . Please submitted your cash \")\n",
    "elif choice == \"4\":\n",
    "    print(\"Thankyou for choosing banking with us \")\n",
    "else:\n",
    "    print(\"Invalid choice\")"
   ]
  },
  {
   "cell_type": "markdown",
   "id": "a39ade42-edf5-45c2-a53a-ce6a6295d6fd",
   "metadata": {},
   "source": [
    "Firstly import random function and print the options \n",
    "\n",
    "After that take choice from user and a random integer with a limit of 1000 to 100000\n",
    "\n",
    "Now with the help of if else & random function simulates the basic ATM transactions\n",
    "\n",
    "Program Ends."
   ]
  },
  {
   "cell_type": "code",
   "execution_count": 33,
   "id": "e6499681-db01-433a-956b-07f7fd12d9c6",
   "metadata": {},
   "outputs": [
    {
     "name": "stdin",
     "output_type": "stream",
     "text": [
      "Enter string: madam\n"
     ]
    },
    {
     "name": "stdout",
     "output_type": "stream",
     "text": [
      "The string is a palindrome\n"
     ]
    }
   ],
   "source": [
    "#Q16. Build a program that checks if a given string is a palindrome or not\n",
    "\n",
    "string=str(input(\"Enter string:\"))\n",
    "if(string==string[::-1]):\n",
    "      print(\"The string is a palindrome\")\n",
    "else:\n",
    "      print(\"The string isn't a palindrome\")"
   ]
  },
  {
   "cell_type": "markdown",
   "id": "3652ca2d-317e-4f13-bc9b-9ff75acab49f",
   "metadata": {},
   "source": [
    "1. Take a string from the user and store it in a variable.\n",
    "\n",
    "2. Reverse the string using string slicing and compare it back to the original string.\n",
    "\n",
    "3. Print the final result\n",
    "\n",
    "4. Exit."
   ]
  },
  {
   "cell_type": "code",
   "execution_count": 4,
   "id": "4f49e3e1-9b66-4d04-945d-216893717fc3",
   "metadata": {},
   "outputs": [
    {
     "name": "stdout",
     "output_type": "stream",
     "text": [
      "Enter the list element and put space between two entries : \n"
     ]
    },
    {
     "name": "stdin",
     "output_type": "stream",
     "text": [
      " 11 22 33 122 44 33\n"
     ]
    },
    {
     "name": "stdout",
     "output_type": "stream",
     "text": [
      "1. Average\n",
      "2. Exclude Smallest\n",
      "3. Exclude Largest\n",
      "4. Exit\n"
     ]
    },
    {
     "name": "stdin",
     "output_type": "stream",
     "text": [
      "Enter your choice:  3\n"
     ]
    },
    {
     "name": "stdout",
     "output_type": "stream",
     "text": [
      "[22, 33, 122, 44, 33]\n"
     ]
    }
   ],
   "source": [
    "#Q17. Write a program that calculates the average of a list of numbers, excluding the smallest and largest values.\n",
    "\n",
    "def average(list1):\n",
    "    avr=sum(list1)/len(list1)\n",
    "    return avr\n",
    "def exclude_smallest(list1):\n",
    "    smallest = min(list1)\n",
    "    list1.remove(smallest)\n",
    "    return list1\n",
    "def exclude_largest(list1):\n",
    "    largest = min(list1)\n",
    "    list1.remove(largest)\n",
    "    return list1\n",
    "\n",
    "print(\"Enter the list element and put space between two entries : \")\n",
    "list1=list(map(int,input().split()))\n",
    "print(\"1. Average\")\n",
    "print(\"2. Exclude Smallest\")\n",
    "print(\"3. Exclude Largest\")\n",
    "print(\"4. Exit\")\n",
    "\n",
    "choice = input(\"Enter your choice: \")\n",
    "\n",
    "\n",
    "if choice == \"1\":\n",
    "    avr=average(list1)\n",
    "    print(\"Average of list is : \",avr)\n",
    "elif choice == \"2\":\n",
    "    lst = exclude_smallest\n",
    "    print(lst,\"Amount debited from your account . Please collect your cash \")\n",
    "elif choice == \"3\":\n",
    "    lst1 = exclude_largest(list1)\n",
    "    print(list(lst1))\n",
    "elif choice == \"4\":\n",
    "    print(\":::: Thankyou :::: \")"
   ]
  },
  {
   "cell_type": "markdown",
   "id": "e1aa3bc9-5907-4084-ad71-dae216cdc4fb",
   "metadata": {},
   "source": [
    "Firstly take a list of number as user input and print the operations option. \n",
    "\n",
    "After that take choice from user and store in a variable.\n",
    "\n",
    "Now with the help of if else statement calculate the average of a list of numbers, excluding the smallest and largest values\n",
    "\n",
    "Program Ends."
   ]
  },
  {
   "cell_type": "code",
   "execution_count": 6,
   "id": "2bf9300b-86a6-4e2f-ba2d-e9640815c91a",
   "metadata": {},
   "outputs": [
    {
     "name": "stdin",
     "output_type": "stream",
     "text": [
      "Enter the temperature in celcius: 36\n"
     ]
    },
    {
     "name": "stdout",
     "output_type": "stream",
     "text": [
      "Temperature in farenheit is: 96.8\n"
     ]
    }
   ],
   "source": [
    "#Q18. Develop a program that converts a given temperature from Celsius to Fahrenheit.\n",
    "\n",
    "celsius=int(input(\"Enter the temperature in celcius:\"))\n",
    "f=(celsius*1.8)+32\n",
    "print(\"Temperature in farenheit is:\",f)"
   ]
  },
  {
   "cell_type": "markdown",
   "id": "9270ebbc-9e14-4c66-9968-d5d2767c6cea",
   "metadata": {},
   "source": [
    "1. User must first enter the value of temperature in Celsius.\n",
    "\n",
    "2. Using the formula of: f=(c*1.8)+32, convert Celsius to Fahrenheit.\n",
    "\n",
    "3. Print the temperature in Fahrenheit."
   ]
  },
  {
   "cell_type": "code",
   "execution_count": 9,
   "id": "12ddebe0-c9f8-470b-b73f-b629e76bacfe",
   "metadata": {},
   "outputs": [
    {
     "name": "stdin",
     "output_type": "stream",
     "text": [
      "Enter first number:  66\n",
      "Enter second number:  11\n"
     ]
    },
    {
     "name": "stdout",
     "output_type": "stream",
     "text": [
      "0. Exit\n",
      "1. Add\n",
      "2. Subtraction\n",
      "3. Multiplication\n",
      "4. Division\n"
     ]
    },
    {
     "name": "stdin",
     "output_type": "stream",
     "text": [
      "Enter choice:  3\n"
     ]
    },
    {
     "name": "stdout",
     "output_type": "stream",
     "text": [
      "Result:  726\n"
     ]
    }
   ],
   "source": [
    "#Q19. Create a program that simulates a basic calculator for addition, subtraction, multiplication, and division\n",
    "\n",
    "def add(a,b):\n",
    "    return a+b\n",
    "\n",
    "def sub(a,b):\n",
    "    return a-b\n",
    "\n",
    "def mul(a,b):\n",
    "    return a*b\n",
    "\n",
    "def div(a,b):\n",
    "    return a/b\n",
    "\n",
    "a=int(input(\"Enter first number: \"))\n",
    "b=int (input(\"Enter second number: \"))\n",
    "print(\"0. Exit\")\n",
    "print(\"1. Add\")\n",
    "print(\"2. Subtraction\")\n",
    "print(\"3. Multiplication\")\n",
    "print(\"4. Division\")\n",
    "choice=int(input(\"Enter choice: \"))\n",
    "if choice==1:\n",
    "    print(\"Result: \",add(a,b))\n",
    "elif choice==2:\n",
    "    print(\"Result: \",sub(a,b))\n",
    "elif choice==3:\n",
    "    print(\"Result: \",mul(a,b))\n",
    "elif choice==4:\n",
    "    print(\"Result: \",div(a,b))\n",
    "elif choice==0:\n",
    "    print(\":::: Thakyou ::::\")\n",
    "else:\n",
    "    print(\"Invalid choice!!\")\n",
    " "
   ]
  },
  {
   "cell_type": "markdown",
   "id": "a02c0b50-8881-4dcc-9d34-51b4633766b3",
   "metadata": {},
   "source": [
    "Firstly Methods for adding, substracting, multiplying, dividing two numbers and returning their respective results should be defined.\n",
    "\n",
    "Then the menu is printed and the choice is taken from the user.\n",
    "\n",
    "Using the if -else, the respective functions  is called according to the choice taken from the user.\n",
    "\n",
    "When the choice is 0, the loop is exited.\n",
    "\n",
    "The final result is printed.\n",
    "\n"
   ]
  },
  {
   "cell_type": "code",
   "execution_count": 4,
   "id": "37a83837-0b79-4d2b-a5e8-2e3abff984a4",
   "metadata": {},
   "outputs": [
    {
     "name": "stdin",
     "output_type": "stream",
     "text": [
      "Enter the number :  512\n"
     ]
    },
    {
     "name": "stdout",
     "output_type": "stream",
     "text": [
      "Cubic root of 512 is 8.0\n"
     ]
    }
   ],
   "source": [
    "#20. Write a program that determines the roots of a cubic equation using the Cardano formula.\n",
    "\n",
    "\n",
    "def diff(n, mid):\n",
    "    if (n > (mid * mid * mid)):\n",
    "        return (n - (mid * mid * mid))\n",
    "    else:\n",
    "        return ((mid * mid * mid) - n)\n",
    "\n",
    "def cubicRoot(n):\n",
    "\n",
    "    start = 0\n",
    "    end = n\n",
    "\n",
    "    e = 0.0000001\n",
    "    while (True):\n",
    " \n",
    "        mid = (start + end) / 2\n",
    "        error = diff(n, mid)\n",
    "\n",
    "        if (error <= e):\n",
    "            return mid\n",
    "\n",
    "        if ((mid * mid * mid) > n):\n",
    "            end = mid\n",
    "        else:\n",
    "            start = mid\n",
    "\n",
    "            \n",
    "n = int(input(\"Enter the number : \"))\n",
    "print(\"Cubic root of\", n, \"is\",\n",
    "      round(cubicRoot(n), 6))"
   ]
  },
  {
   "cell_type": "markdown",
   "id": "66608111-a23c-451b-923e-60a00cb94d0a",
   "metadata": {},
   "source": [
    "The main steps of our program for calculating the cubic root of a number n are: \n",
    "\n",
    "Initialize start = 0 and end = n\n",
    "\n",
    "Calculate mid = (start + end)/2\n",
    "\n",
    "Check if the absolute value of (n – mid*mid*mid) < e. If this condition holds true then mid is our answer so return mid. \n",
    "\n",
    "If (mid*mid*mid)>n then set end=mid\n",
    "\n",
    "If (mid*mid*mid)<n then set start=mid"
   ]
  },
  {
   "cell_type": "code",
   "execution_count": null,
   "id": "55e8f1df-c45b-48b4-82f5-24cb36a24e84",
   "metadata": {},
   "outputs": [],
   "source": [
    "#Advanced Level"
   ]
  },
  {
   "cell_type": "code",
   "execution_count": 2,
   "id": "d0f19834-85d9-467f-beed-95ca8ac4f8ea",
   "metadata": {},
   "outputs": [
    {
     "name": "stdin",
     "output_type": "stream",
     "text": [
      "Please enter your annual package :  1600000\n"
     ]
    },
    {
     "name": "stdout",
     "output_type": "stream",
     "text": [
      "you owe 217500.0 Rupees in tax!\n"
     ]
    }
   ],
   "source": [
    "#21. Create a program that calculates the income tax based on the user's income and tax brackets\n",
    "\n",
    "\n",
    "\n",
    "income=int(input(\"Please enter your annual package : \"))\n",
    "if income <= 250000:  #2 Lakh 50 thousand\n",
    "    tax = 0\n",
    "\n",
    "elif income <= 500000: #5 Lakh\n",
    "    tax = (income - 250000) * 0.05\n",
    "\n",
    "elif income <= 750000: #7 lakh 50 thousand\n",
    "    tax = (income - 500000) * 0.10 + 12500 \n",
    "\n",
    "elif income <= 1000000: #10 Lakh\n",
    "    tax = (income - 750000) * 0.15 + 37500 \n",
    "\n",
    "elif income <= 1250000: #12 lakh 50 thousand\n",
    "    tax = (income - 1000000) * 0.20 + 75000 \n",
    "\n",
    "elif income <= 1500000: #15 lakh\n",
    "    tax = (income - 1250000) * 0.25 + 125000 \n",
    "\n",
    "else:\n",
    "    tax = (income - 1500000) * 0.30 + 187500\n",
    "\n",
    "print(\"you owe\", tax, \"Rupees in tax!\")"
   ]
  },
  {
   "cell_type": "markdown",
   "id": "dc1fd324-a260-4652-89a8-263639aa978f",
   "metadata": {},
   "source": [
    "Take a per annum income from the user as input and store it in a variable.\n",
    "\n",
    "Now we will put if and else statements here to full fill our income tax calculating conditions as given below:\n",
    "\n",
    "                    If income is less than or equals to Rs. 2,50,000 then tax will be zero.\n",
    "                    \n",
    "                    If income is less than or equals to Rs. 5,00,000 then tax will be 5% of total income exceeding \n",
    "                    Rs. 2,50,000\n",
    "                    \n",
    "                    If income is less than or equals to Rs. 7,50,000 then tax will be 10% of total income exceeding \n",
    "                    Rs. 5,00,000 with an additional cost of Rs. 12,500.\n",
    "                    \n",
    "                    If income is less than or equals to Rs. 10,00,000 then tax will be 15% of total income exceeding \n",
    "                    Rs. 7,50,000 with an additional cost of Rs. 37,500.\n",
    "                    \n",
    "                    If income is less than or equals to Rs. 12,50,000 then tax will be 20% of total income exceeding \n",
    "                    Rs. 10,00,000 with an additional cost of Rs. 75,000.\n",
    "                    \n",
    "                    If income is less than or equals to Rs. 15,00,000 then tax will be 25% of total income exceeding \n",
    "                    Rs. 12,50,000 with an additional cost of Rs. 1,25,000.\n",
    "                    \n",
    "                    If income is more than Rs. 15,00,000 then tax will be 30% of total income exceeding Rs. 15,00,000 \n",
    "                    with an additional cost of Rs. 1,87,500."
   ]
  },
  {
   "cell_type": "code",
   "execution_count": 4,
   "id": "a7a8f8a6-fda1-445f-a182-cdf1741c88d5",
   "metadata": {},
   "outputs": [
    {
     "name": "stdin",
     "output_type": "stream",
     "text": [
      "Enter your choice (rock, paper or scissors):  rock\n"
     ]
    },
    {
     "name": "stdout",
     "output_type": "stream",
     "text": [
      "Your choice rock, computer choice scissors\n",
      "\n",
      "You win! because Rock smashes scissors.\n"
     ]
    }
   ],
   "source": [
    "#Q22. Write a program that simulates a rock-paper-scissors game against the computer\n",
    "\n",
    "\n",
    "\n",
    "\n",
    "import random\n",
    "\n",
    "actions = ['rock', 'paper', 'scissors']\n",
    "\n",
    "user_choice = input('Enter your choice (rock, paper or scissors): ')\n",
    "\n",
    "program_choice = random.choice(actions)\n",
    "\n",
    "print(f\"Your choice {user_choice}, computer choice {program_choice}\\n\")\n",
    "\n",
    "if user_choice == program_choice:\n",
    "    print(f\"Both players selected {user_choice}. It's a tie!\")\n",
    "elif user_choice == \"rock\":\n",
    "    if program_choice == \"scissors\":\n",
    "        print(\"You win! because Rock smashes scissors.\")\n",
    "    else:\n",
    "        print(\"You lose :( Paper covers rock!\")\n",
    "elif user_choice == \"paper\":\n",
    "    if program_choice == \"rock\":\n",
    "        print(\"You win! because Paper covers rock.\")\n",
    "    else:\n",
    "        print(\"You lose :( Scissors cuts paper!\")\n",
    "elif user_choice == \"scissors\":\n",
    "    if program_choice == \"paper\":\n",
    "        print(\"You win! because Scissors cuts paper.\")\n",
    "    else:\n",
    "        print(\"You lose :( Rock smashes scissors!\")\n"
   ]
  },
  {
   "cell_type": "markdown",
   "id": "323e275c-6a56-43d2-904b-b49ea36d0bef",
   "metadata": {},
   "source": [
    "To build the Rock paper scissors python game, we will divide the problem statement into three simple steps to help us build the game.\n",
    "\n",
    "The steps are as follows:\n",
    "\n",
    "                         Take the input from the user to know their choice (rock, paper or scissors).\n",
    "                         \n",
    "                         Randomly allow the program to choose its choice.\n",
    "                         \n",
    "                         Based on the game rules, decide the winner and display the winner on the screen."
   ]
  },
  {
   "cell_type": "code",
   "execution_count": 10,
   "id": "94bf0454-fcab-4d76-a80f-adf3fd39ec5a",
   "metadata": {},
   "outputs": [
    {
     "name": "stdin",
     "output_type": "stream",
     "text": [
      "Enter the length of the password : 14\n"
     ]
    },
    {
     "name": "stdout",
     "output_type": "stream",
     "text": [
      "A randomly selected password is: QLh641I3WcKI9B\n"
     ]
    }
   ],
   "source": [
    "#Q23. Develop a program that generates a random password based on user preferences (length, complexity)\n",
    "\n",
    "\n",
    "\n",
    "\n",
    "import random\n",
    "def generatePassword(n):\n",
    "    characters = \"abcdefghijklmnopqrstuvwxyzABCDEFGHIJKLMNOPQRSTUVWXYZ123456789!@#$%^&*()\"\n",
    "\n",
    "    password = \"\"\n",
    "\n",
    "    for i in range(n):\n",
    "        password += random.choice(characters)\n",
    "    return password\n",
    "\n",
    "\n",
    "\n",
    "n = int(input(\"Enter the length of the password :\"))\n",
    "password = generatePassword(n)\n",
    "print(\"A randomly selected password is:\", password)\n"
   ]
  },
  {
   "cell_type": "markdown",
   "id": "d2dedf50-e931-4127-be7b-271c70ac83cd",
   "metadata": {},
   "source": [
    "Firstly import random and define the valid characters for the password and store it in a variable.\n",
    "\n",
    "Now with the help of loop and random genrate the password and return\n",
    "\n",
    "In the drivers code take user input for the length of the password.\n",
    "\n",
    "Call the function and sotre the return value in a variable .\n",
    "\n",
    "Print the variable and program end."
   ]
  },
  {
   "cell_type": "code",
   "execution_count": 11,
   "id": "d5e086ab-ecd6-479b-ad30-4ff87a896ef8",
   "metadata": {},
   "outputs": [
    {
     "name": "stdin",
     "output_type": "stream",
     "text": [
      "What is your name?  Vikas\n",
      "Enter your choice 1 for easy 2 for medium & 3 for hard : 2\n"
     ]
    },
    {
     "name": "stdout",
     "output_type": "stream",
     "text": [
      "Good Luck !  Vikas\n",
      "Guess the characters\n",
      "_\n",
      "_\n",
      "_\n",
      "_\n",
      "_\n",
      "\n"
     ]
    },
    {
     "name": "stdin",
     "output_type": "stream",
     "text": [
      "guess a character: g\n"
     ]
    },
    {
     "name": "stdout",
     "output_type": "stream",
     "text": [
      "Wrong\n",
      "You have 11 more guesses\n",
      "_\n",
      "_\n",
      "_\n",
      "_\n",
      "_\n",
      "\n"
     ]
    },
    {
     "name": "stdin",
     "output_type": "stream",
     "text": [
      "guess a character: a\n"
     ]
    },
    {
     "name": "stdout",
     "output_type": "stream",
     "text": [
      "Wrong\n",
      "You have 10 more guesses\n",
      "_\n",
      "_\n",
      "_\n",
      "_\n",
      "_\n",
      "\n"
     ]
    },
    {
     "name": "stdin",
     "output_type": "stream",
     "text": [
      "guess a character: e\n"
     ]
    },
    {
     "name": "stdout",
     "output_type": "stream",
     "text": [
      "Wrong\n",
      "You have 9 more guesses\n",
      "_\n",
      "_\n",
      "_\n",
      "_\n",
      "_\n",
      "\n"
     ]
    },
    {
     "name": "stdin",
     "output_type": "stream",
     "text": [
      "guess a character: o\n"
     ]
    },
    {
     "name": "stdout",
     "output_type": "stream",
     "text": [
      "_\n",
      "_\n",
      "o _\n",
      "_\n",
      "\n"
     ]
    },
    {
     "name": "stdin",
     "output_type": "stream",
     "text": [
      "guess a character: t\n"
     ]
    },
    {
     "name": "stdout",
     "output_type": "stream",
     "text": [
      "_\n",
      "t o _\n",
      "_\n",
      "\n"
     ]
    },
    {
     "name": "stdin",
     "output_type": "stream",
     "text": [
      "guess a character: m\n"
     ]
    },
    {
     "name": "stdout",
     "output_type": "stream",
     "text": [
      "_\n",
      "t o m _\n",
      "\n"
     ]
    },
    {
     "name": "stdin",
     "output_type": "stream",
     "text": [
      "guess a character: p\n"
     ]
    },
    {
     "name": "stdout",
     "output_type": "stream",
     "text": [
      "_\n",
      "t o m p \n"
     ]
    },
    {
     "name": "stdin",
     "output_type": "stream",
     "text": [
      "guess a character: s\n"
     ]
    },
    {
     "name": "stdout",
     "output_type": "stream",
     "text": [
      "s t o m p You Win\n",
      "The word is:  stomp\n"
     ]
    }
   ],
   "source": [
    "#Q24. Create a program that implements a simple text-based adventure game with branching scenarios\n",
    "\n",
    "\n",
    "\n",
    "\n",
    "\n",
    "\n",
    "import random\n",
    "def games(words):\n",
    "    word = random.choice(words)\n",
    "    print(\"Guess the characters\")\n",
    "    guesses = ''\n",
    "    turns = 12\n",
    "    while turns > 0:\n",
    "        failed = 0\n",
    "        for char in word:\n",
    "            if char in guesses:\n",
    "                print(char, end=\" \")\n",
    "            else:\n",
    "                print(\"_\")\n",
    "                failed += 1\n",
    "        if failed == 0:\n",
    "            print(\"You Win\")\n",
    "            print(\"The word is: \", word)\n",
    "            break\n",
    "        print()\n",
    "        guess = input(\"guess a character:\")\n",
    "        guesses += guess\n",
    "        if guess not in word:\n",
    "            turns -= 1\n",
    "            print(\"Wrong\")\n",
    "            print(\"You have\", + turns, 'more guesses')\n",
    "            if turns == 0:\n",
    "                print(\"You Loose\")\n",
    " \n",
    "\n",
    "\n",
    "\n",
    "\n",
    "name = input(\"What is your name? \")\n",
    "n=int(input(\"Enter your choice 1 for easy 2 for medium & 3 for hard :\"))\n",
    " \n",
    "print(\"Good Luck ! \", name)\n",
    " \n",
    "words = [\"airplane\",\"boat\",\"baby\",\"ears\",\"scissors\",\"cough\",\"cold\",\"phone\",\"laugh\",\"blink\",\n",
    "         \"hairbrush\",\"sneeze\",\"spin\",\"hammer\",\"book\",\"phone\",\"toothbrush\",\"jump\",\"clap\",\"slap\"]\n",
    "words1=[\"archer\",\"ghost\",\"balance\",\"shoelaces\",\"sick\",\"balloon\",\"banana\",\"monster\",\"hiccup\",\n",
    "        \"stomp\",\"hurt\",\"hungry\",\"slip\",\"karate\",\"ladder\",\"scare\",\"fishing\",\"dizzy\",\"read\",\"hot\"] \n",
    "words2=[\"birthday\",\"president\",\"apartment\",\"cradle\",\"coffee\",\"trampoline\",\"waterfall\",\"window\",\"proud\",\"stuckup\",\"flashlight\",\"marry\",\n",
    "        \"overwhelm\",\"judge\",\"shadow\",\"halo\",\"measure\",\"clown\",\"chomp\",\"slither\"]\n",
    "if n==1:\n",
    "    games(words)\n",
    "elif n==2:\n",
    "    games(words1)\n",
    "elif n==3:\n",
    "    games(words2)\n",
    "else:\n",
    "    print(\"Input Invalid \")"
   ]
  },
  {
   "cell_type": "markdown",
   "id": "d2e9e6f6-f517-415e-9c75-86f854dbfbb8",
   "metadata": {},
   "source": [
    "The code starts by asking the user to enter their name & dificulty level.\n",
    "\n",
    "The code then prints a message saying “Good Luck!”and sets a variable called name to the inputted name.\n",
    "\n",
    "Next, the code creates a list of words using the built-in function word().\n",
    "\n",
    "This function takes in an input string and returns a list of strings.\n",
    "\n",
    "In this case, the list will contain five strings: rainbow, computer, science, programming, and python.\n",
    "\n",
    "The next part of the code is where the randomness happens.\n",
    "\n",
    "The code will randomly choose one string from the list of words and store it in word variable.\n",
    "\n",
    "Then it will print out that word along with a space at the end.\n",
    "\n",
    "After printing out each word, the code checks to see if any user has entered an incorrect letter by comparing each character in guess with those in word .\n",
    "\n",
    "If they don’t match up then guess is set to “Wrong” and turns is decreased by 1 .\n",
    "\n",
    "If there are no more letters left in guess , then Guess You Lose is printed .\n",
    "\n",
    "Otherwise turn s is increased by 1 and loop continues until either Guess You Win or Wrong is printed .\n",
    "\n",
    "Finally , if turn s equals 0 , then you have won !\n",
    "\n",
    "Otherwise Wrong will be\n",
    "\n",
    "The code will randomly choose one word from a list of words.\n",
    "\n",
    "The user is then asked to enter the characters for that word.\n",
    "\n",
    "Once the user enters all of the characters, the code checks to see if those characters are in the word that was chosen.\n",
    "\n",
    "If they are not, it prints out “Wrong” and decreases the number of turns left for the user by 1.\n",
    "\n",
    "If all turns have been used, then the code will print “You Lose.”"
   ]
  },
  {
   "cell_type": "code",
   "execution_count": 4,
   "id": "8f225f3d-27ef-400e-a3c1-06654f94fe3f",
   "metadata": {},
   "outputs": [
    {
     "name": "stdout",
     "output_type": "stream",
     "text": [
      "x = 4.500000\n"
     ]
    }
   ],
   "source": [
    "#Q25. Build a program that solves a linear equation  for x, considering different cases.\n",
    "\n",
    "\n",
    "\n",
    "\n",
    "def solve(equation): \n",
    "    s1 = equation.replace('x', 'j') \n",
    "    s2 = s1.replace('=', '-(')\n",
    "    s = s2+')'\n",
    "    z = eval(s, {'j': 1j}) \n",
    "    real, imag = z.real, -z.imag \n",
    "    if imag: \n",
    "        return \"x = %f\" % (real/imag) \n",
    "    else: \n",
    "        if real: \n",
    "            return \"No solution\"\n",
    "        else: \n",
    "            return \"Infinite solutions\"\n",
    "  \n",
    "  \n",
    "equation = \"2+3x=5x-7\"\n",
    "print(solve(equation)) "
   ]
  },
  {
   "cell_type": "markdown",
   "id": "8cbdce3f-a090-40b4-b89c-051fe1af1907",
   "metadata": {},
   "source": [
    "Step 1: We will use the replace() in python to replace “=” with “-(” and replace “x” with “j”.\n",
    "\n",
    "\n",
    "Step 2: The string is then added with “+)” to complete the expression.\n",
    "\n",
    "\n",
    "Step 3: Then { “j” : 1j} is done to change the equation into a format that can be easily evaluated by the eval() function. In this step all the constant terms are evaluated and the x terms or the imaginary terms as well.\n",
    "\n",
    "\n",
    "Step 4: Then the evaluated expression is simply broken down into the real and imaginary parts. If the imaginary part exists or the x is true and not zero the answer is printed else if the imaginary part is 0 and the real part is true there is no solution or else there are infinite solutions. Here,"
   ]
  },
  {
   "cell_type": "code",
   "execution_count": 2,
   "id": "31be1a6b-4ae6-42d2-b611-cb1d551b247b",
   "metadata": {},
   "outputs": [
    {
     "name": "stdout",
     "output_type": "stream",
     "text": [
      "Wellcome to quiz game !!\n",
      "NOTE: if your spelling is incorrect then it is considered as wrong answer\n"
     ]
    },
    {
     "name": "stdin",
     "output_type": "stream",
     "text": [
      "Do you want to play ?  yes\n",
      "\n",
      "1. what does CPU stand for?  graphics processing unit\n"
     ]
    },
    {
     "name": "stdout",
     "output_type": "stream",
     "text": [
      "Incorrect!\n",
      "current answer is --> central processing unit\n"
     ]
    },
    {
     "name": "stdin",
     "output_type": "stream",
     "text": [
      "\n",
      "2. what does GPU stand for?  graphics processing unit\n"
     ]
    },
    {
     "name": "stdout",
     "output_type": "stream",
     "text": [
      "correct! you got 1 point\n"
     ]
    },
    {
     "name": "stdin",
     "output_type": "stream",
     "text": [
      "\n",
      "3. what does RAM stand for?  random access memory\n"
     ]
    },
    {
     "name": "stdout",
     "output_type": "stream",
     "text": [
      "correct! you got 1 point\n"
     ]
    },
    {
     "name": "stdin",
     "output_type": "stream",
     "text": [
      "\n",
      "4. what does PSU stand for?  power supply unit\n"
     ]
    },
    {
     "name": "stdout",
     "output_type": "stream",
     "text": [
      "correct! you got 1 point\n"
     ]
    },
    {
     "name": "stdin",
     "output_type": "stream",
     "text": [
      "\n",
      "5. what does ROM stand for?  read only memory\n"
     ]
    },
    {
     "name": "stdout",
     "output_type": "stream",
     "text": [
      "correct! you got 1 point\n",
      "\n",
      "number of question is 5\n",
      "your score is 4\n",
      "80.0% questions are correct.\n"
     ]
    }
   ],
   "source": [
    "#Q26. Write a program that simulates a basic quiz game with multiple-choice questions and scoring.\n",
    "\n",
    "\n",
    "\n",
    "print(\"Wellcome to quiz game !!\")\n",
    "print('NOTE: if your spelling is incorrect then it is considered as wrong answer')\n",
    "score = 0\n",
    "question_no = 0\n",
    "playing = input('Do you want to play ? ').lower()\n",
    "if playing == 'yes':\n",
    "    question_no += 1\n",
    "    ques = input(f'\\n{question_no}. what does CPU stand for? ').lower()\n",
    "    if ques == 'central processing unit':\n",
    "        score +=1\n",
    "        print('correct! you got 1 point')\n",
    "        \n",
    "    else:\n",
    "        print('Incorrect!')\n",
    "        print(f'current answer is --> central processing unit')\n",
    "\n",
    "# ------1\n",
    "    question_no += 1\n",
    "    ques = input(f'\\n{question_no}. what does GPU stand for? ').lower()\n",
    "    \n",
    "    if ques == 'graphics processing unit':\n",
    "        score +=1\n",
    "        print('correct! you got 1 point')\n",
    "        \n",
    "    else:\n",
    "        print('Incorrect!')\n",
    "        print(f'current answer is --> graphics processing unit')\n",
    "\n",
    "# -----2\n",
    "    question_no += 1\n",
    "    ques = input(f'\\n{question_no}. what does RAM stand for? ').lower()\n",
    "    \n",
    "    if ques == 'random access memory':\n",
    "        score +=1\n",
    "        print('correct! you got 1 point')\n",
    "        \n",
    "    else:\n",
    "        print('Incorrect!')\n",
    "        print(f'current answer is --> random access memory')\n",
    "\n",
    "# -----3\n",
    "    question_no += 1\n",
    "    ques = input(f'\\n{question_no}. what does PSU stand for? ').lower()\n",
    "    \n",
    "    if ques == 'power supply unit':\n",
    "        score +=1\n",
    "        print('correct! you got 1 point')\n",
    "        \n",
    "    else:\n",
    "        print('Incorrect!')\n",
    "        print(f'current answer is --> power supply unit')\n",
    "\n",
    "\n",
    "# -----4\n",
    "    question_no += 1\n",
    "    ques = input(f'\\n{question_no}. what does ROM stand for? ').lower()\n",
    "    \n",
    "    if ques == 'read only memory':\n",
    "        score +=1\n",
    "        print('correct! you got 1 point')\n",
    "        \n",
    "    else:\n",
    "        print('Incorrect!')\n",
    "        print(f'current answer is --> read only memory')\n",
    "\n",
    "\n",
    "# ------5 \n",
    "\n",
    "else:\n",
    "    print('thankyou you are out of a game.')\n",
    "    quit()\n",
    "\n",
    "print(f'\\nnumber of question is {question_no}')\n",
    "print(f'your score is {score}')\n",
    "try:\n",
    "    percentage = (score *100)/question_no\n",
    "except ZeroDivisionError:\n",
    "    print('0% quetions are correct')\n",
    "\n",
    "print(f'{percentage}% questions are correct.')\n",
    "\n"
   ]
  },
  {
   "cell_type": "markdown",
   "id": "98b0cfe9-1154-4bf5-8af0-c2d918a8e0a1",
   "metadata": {},
   "source": [
    "Create one variable for counting score e.g score.\n",
    "\n",
    "Ask questions to a user (using the input() function)\n",
    "\n",
    "if a user gives a correct answer then increase a score by 1 and print(correct!)\n",
    "\n",
    "if given answer of a user is incorrect then print(incorrect!)\n",
    "\n",
    "and at last print score of the user."
   ]
  },
  {
   "cell_type": "code",
   "execution_count": 10,
   "id": "3e897513-4910-4c9a-8166-480bf26ae163",
   "metadata": {},
   "outputs": [
    {
     "name": "stdin",
     "output_type": "stream",
     "text": [
      "Enter the year :  2203\n"
     ]
    },
    {
     "name": "stdout",
     "output_type": "stream",
     "text": [
      "2203  is a prime number.\n"
     ]
    }
   ],
   "source": [
    "#Q27. Develop a program that determines whether a given year is a prime number or not.\n",
    "\n",
    "\n",
    "\n",
    "\n",
    "def is_prime(year):\n",
    "    if year <= 1:\n",
    "        return False\n",
    "    for i in range(2, int(year**0.5) + 1):\n",
    "        if year % i == 0:\n",
    "            return False\n",
    "    return True\n",
    "\n",
    "\n",
    "\n",
    "\n",
    "year = int(input(\"Enter the year : \"))\n",
    "\n",
    "if is_prime(year):\n",
    "  print(year,\" is a prime number.\")\n",
    "else:\n",
    "  print(year,\" is not a prime number.\")"
   ]
  },
  {
   "cell_type": "markdown",
   "id": "6f9896e0-fda8-48d3-a47c-1de16f126534",
   "metadata": {},
   "source": [
    "This program first checks if the given year is less than or equal to 1. If it is, then the program returns False because 1 is not a prime number.\n",
    "\n",
    "Otherwise, the program iterates through all the numbers from 2 to the square root of the given year. \n",
    "\n",
    "If any of these numbers divide evenly into the given year, then the program returns False because the given year is not prime.\n",
    "\n",
    "If the program reaches the end of the loop without finding any factors of the given year, then the program returns True because the given year is prime."
   ]
  },
  {
   "cell_type": "code",
   "execution_count": 12,
   "id": "fd892093-320b-4854-bffa-98da8a4fcd76",
   "metadata": {},
   "outputs": [
    {
     "name": "stdin",
     "output_type": "stream",
     "text": [
      "Enter the first number : 33\n",
      "Enter the second number : 22\n",
      "Enter the third number : 56\n"
     ]
    },
    {
     "data": {
      "text/plain": [
       "[22, 33, 56]"
      ]
     },
     "execution_count": 12,
     "metadata": {},
     "output_type": "execute_result"
    }
   ],
   "source": [
    "#Q28. Create a program that sorts three numbers in ascending order using conditional statements\n",
    "\n",
    "def sort_three_numbers(a, b, c):\n",
    "    if a > b:\n",
    "        a, b = b, a\n",
    "    if b > c:\n",
    "        b, c = c, b\n",
    "    if a > b:\n",
    "        a, b = b, a\n",
    "    return [a, b, c]\n",
    "\n",
    "\n",
    "\n",
    "a=int(input(\"Enter the first number :\"))\n",
    "b=int(input(\"Enter the second number :\"))\n",
    "c=int(input(\"Enter the third number :\"))\n",
    "sort_three_numbers(a, b, c)"
   ]
  },
  {
   "cell_type": "markdown",
   "id": "438fc26e-5133-4bae-ae91-d5186b1c26cd",
   "metadata": {},
   "source": [
    "This program works by first comparing the first two numbers and swapping them if necessary. \n",
    "\n",
    "Then, it compares the second two numbers and swaps them if necessary.\n",
    "\n",
    "Finally, it compares the first two numbers again and swaps them if necessary. \n",
    "\n",
    "This ensures that the three numbers are in ascending order."
   ]
  },
  {
   "cell_type": "code",
   "execution_count": 13,
   "id": "ae5b4f4a-1945-4f9a-8daf-a10a75d96ebd",
   "metadata": {},
   "outputs": [
    {
     "name": "stdout",
     "output_type": "stream",
     "text": [
      "Equation: ax^2 + bx + c \n"
     ]
    },
    {
     "name": "stdin",
     "output_type": "stream",
     "text": [
      "Enter a:  6\n",
      "Enter b:  10\n",
      "Enter c:  8\n"
     ]
    },
    {
     "name": "stdout",
     "output_type": "stream",
     "text": [
      "The roots are imaginary. \n"
     ]
    }
   ],
   "source": [
    "#Q29. Build a program that determines the roots of a quartic equation using numerical methods.\n",
    "\n",
    "\n",
    "print(\"Equation: ax^2 + bx + c \")\n",
    "a=int(input(\"Enter a: \"))\n",
    "b=int(input(\"Enter b: \"))\n",
    "c=int(input(\"Enter c: \"))\n",
    "d=b**2-4*a*c\n",
    "d1=d**0.5\n",
    "if(d<0):\n",
    "    print(\"The roots are imaginary. \")\n",
    "else:\n",
    "    r1=(-b+d1)/2*a\n",
    "    r2=(-b-d1)/2*a\n",
    "    print(\"The first root: \",round(r1,2))\n",
    "    print(\"The second root: \",round(r2,2))"
   ]
  },
  {
   "cell_type": "markdown",
   "id": "d6559171-d53d-42d9-b7db-2290b654b76e",
   "metadata": {},
   "source": [
    "1. User must enter the coefficients of the equations and store it in three separate variables.\n",
    "\n",
    "2. The value value of the discriminant, d, is found out which determines the nature of roots of the equation.\n",
    "\n",
    "3. If the value of the discriminant is lesser than 0, the roots are imaginary.\n",
    "\n",
    "4. If the value of the discriminant is greater than 0, the roots aren’t imaginary.\n",
    "\n",
    "5. The value of the roots is found out using the quadratic formula.\n",
    "\n",
    "6. The roots of the equation are printed."
   ]
  },
  {
   "cell_type": "code",
   "execution_count": 18,
   "id": "11bd543a-6ec2-4ab4-9553-bdd6bc3b5145",
   "metadata": {},
   "outputs": [
    {
     "name": "stdin",
     "output_type": "stream",
     "text": [
      "Enter your weight in kilograms:  85\n",
      "Enter your height in meters:  1.82\n"
     ]
    },
    {
     "name": "stdout",
     "output_type": "stream",
     "text": [
      "Category: Overweight\n",
      "Reduce-calorie diet and exercise regularly.\n"
     ]
    }
   ],
   "source": [
    "#30. Write a program that calculates the BMI (Body Mass Index) and provides health recommendations based on the user's input.\n",
    "\n",
    "\n",
    "weight = float(input(\"Enter your weight in kilograms: \"))\n",
    "height = float(input(\"Enter your height in meters: \"))\n",
    " \n",
    "BMI = weight / (height * height)\n",
    "\n",
    "\n",
    "if BMI < 18.5:\n",
    "    print(\"Category: Underweight\")\n",
    "    print(\" Eat a variety of foods that give you the nutrition you need.\")\n",
    "elif BMI <= 24.9:\n",
    "    print(\"Category: Normal weight\")\n",
    "    print(\"Keep up the good work and stay maintained\")\n",
    "elif BMI <= 29.9:\n",
    "    print(\"Category: Overweight\")\n",
    "    print(\"Reduce-calorie diet and exercise regularly.\")\n",
    "elif BMI <= 34.9:\n",
    "    print(\"Category: Severely Overweight\")\n",
    "elif BMI <= 39.9:\n",
    "    print(\"Category: Obesity\")\n",
    "    print(\"Reduce the number of calories consumed from fats and sugars, increasing the portion of daily intake of fruit, vegetables, legumes, whole grains and nuts, and engaging in regular physical activity\")\n",
    "else:\n",
    "    print(\"Category: Severely Obesity\")\n",
    "    print(\"Reduce the number of calories consumed from fats and sugars, increasing the portion of daily intake of fruit, vegetables, legumes, whole grains and nuts, and engaging in regular physical activity\")\n"
   ]
  },
  {
   "cell_type": "markdown",
   "id": "711a205e-2405-4c5f-bb41-db104008463f",
   "metadata": {},
   "source": [
    "Define 2 variable & Prompt the user to enter their weight and height\n",
    "\n",
    "Now Calculate the BMI with the help of the formula BMI = weight / (height * height)\n",
    "\n",
    "Now Classify the BMI by executing the following with the help of the if-else statement\n",
    "\n",
    "            if BMI is less than or equal to 18.4 then You are underweight. will be printed.\n",
    "    \n",
    "            if BMI is less than or equal to 24.9 then You are healthy. will be printed.\n",
    "        \n",
    "            if BMI is less than or equal to 29.9 then You are over weight. will be printed.\n",
    "            \n",
    "            if BMI is less than or equal to 34.9 then You are severely over weight. will be printed.\n",
    "            \n",
    "            if BMI is less than or equal to 39.9 then You are obese. will be printed.\n",
    "            \n",
    "            if BMI none of the above are true then You are severely obese. will be printed."
   ]
  },
  {
   "cell_type": "code",
   "execution_count": 1,
   "id": "cbac4f9e-66b9-4f76-8bbd-31a96c52e47d",
   "metadata": {},
   "outputs": [],
   "source": [
    "#Challenge Level:"
   ]
  },
  {
   "cell_type": "code",
   "execution_count": 3,
   "id": "588f9cf1-a9ce-45f1-bfc2-3be91cef9c1a",
   "metadata": {},
   "outputs": [
    {
     "name": "stdin",
     "output_type": "stream",
     "text": [
      "Enter your password:  Password@1234\n"
     ]
    },
    {
     "name": "stdout",
     "output_type": "stream",
     "text": [
      "Your password is valid.\n"
     ]
    }
   ],
   "source": [
    "#Q31. Create a program that validates a password based on complexity rules (length, characters, etc.).\n",
    "\n",
    "\n",
    "\n",
    "\n",
    "def validate_password(password):\n",
    "  if len(password) < 8:\n",
    "    return False\n",
    "  if not any(char.isupper() for char in password):\n",
    "    return False\n",
    "  if not any(char.islower() for char in password):\n",
    "    return False\n",
    "  if not any(char.isdigit() for char in password):\n",
    "    return False\n",
    "  if not any(char in \"!@#$%^&*()\" for char in password):\n",
    "    return False\n",
    "  return True\n",
    "\n",
    "\n",
    "\n",
    "password = input(\"Enter your password: \")\n",
    "if validate_password(password):\n",
    "  print(\"Your password is valid.\")\n",
    "else:\n",
    "  print(\"Your password is invalid.\")"
   ]
  },
  {
   "cell_type": "markdown",
   "id": "ad7b2aef-560a-4358-bc0a-49abe1da882a",
   "metadata": {},
   "source": [
    "This program first checks if the password is at least 8 characters long. \n",
    "\n",
    "If it is not, the program returns False.\n",
    "\n",
    "Otherwise, the program checks if the password contains at least one uppercase letter, one lowercase letter, one number, and one special character. \n",
    "\n",
    "If the password does not contain all of these elements, the program returns False. Otherwise, the program returns True."
   ]
  },
  {
   "cell_type": "code",
   "execution_count": 6,
   "id": "a77b74b9-f541-4d80-aef1-8dc6dcc0351b",
   "metadata": {},
   "outputs": [
    {
     "name": "stdin",
     "output_type": "stream",
     "text": [
      "Enter the first dimension of first array  3\n",
      "Enter the first dimension of first array  3\n"
     ]
    },
    {
     "name": "stdout",
     "output_type": "stream",
     "text": [
      "\n",
      "\n"
     ]
    },
    {
     "name": "stdin",
     "output_type": "stream",
     "text": [
      "Enter the list items separated by space  2 3 4 5 6 7 8 9 10\n",
      "Enter the first dimension of first array  3\n",
      "Enter the first dimension of first array  3\n"
     ]
    },
    {
     "name": "stdout",
     "output_type": "stream",
     "text": [
      "\n",
      "\n"
     ]
    },
    {
     "name": "stdin",
     "output_type": "stream",
     "text": [
      "Enter the list items separated by space  11 22 33 44 55 66 77 88 99 \n"
     ]
    },
    {
     "name": "stdout",
     "output_type": "stream",
     "text": [
      "Printing elements of first matrix\n",
      "[[ 2  3  4]\n",
      " [ 5  6  7]\n",
      " [ 8  9 10]]\n",
      "Printing elements of second matrix\n",
      "[[11 22 33]\n",
      " [44 55 66]\n",
      " [77 88 99]]\n",
      "1.Add\n",
      "2.Subtract\n",
      "3.Exit\n"
     ]
    },
    {
     "name": "stdin",
     "output_type": "stream",
     "text": [
      "Enter your choice 2\n"
     ]
    },
    {
     "name": "stdout",
     "output_type": "stream",
     "text": [
      "Subtraction of two matrix\n",
      "[[ -9 -19 -29]\n",
      " [-39 -49 -59]\n",
      " [-69 -79 -89]]\n"
     ]
    }
   ],
   "source": [
    "#Q32. Develop a program that performs matrix addition and subtraction based on user input.\n",
    "\n",
    "import numpy as np\n",
    "\n",
    "\n",
    "a = int(input(\"Enter the first dimension of first array \"))\n",
    "b=int(input(\"Enter the first dimension of first array \"))\n",
    "l=a*b\n",
    "print(\"\\n\")\n",
    "lst=list(int(num) for num in input(\"Enter the list items separated by space \").strip().split())[:l]\n",
    "A=np.array(lst)\n",
    "A=A.reshape(a,b)\n",
    "aa = int(input(\"Enter the first dimension of first array \"))\n",
    "bb=int(input(\"Enter the first dimension of first array \"))\n",
    "ll=a*b\n",
    "print(\"\\n\")\n",
    "lst=list(int(num) for num in input(\"Enter the list items separated by space \").strip().split())[:ll]\n",
    "B=np.array(lst)\n",
    "B=B.reshape(aa,bb)\n",
    "print(\"Printing elements of first matrix\")\n",
    "print(A)\n",
    "print(\"Printing elements of second matrix\")\n",
    "print(B)\n",
    "print(\"1.Add\")\n",
    "print(\"2.Subtract\")\n",
    "print(\"3.Exit\")\n",
    "choice=int(input(\"Enter your choice\"))\n",
    "if choice==1:\n",
    "    print(\"Addition of two matrix\")\n",
    "    print(np.add(A, B))\n",
    "elif choice==2:\n",
    "    print(\"Subtraction of two matrix\")\n",
    "    print(np.subtract(A, B))\n",
    "elif choice==3:\n",
    "    print(\"---------------Thankyou--------------------\")\n",
    "else:\n",
    "    print(\"------------------Invalid Input--------------\")"
   ]
  },
  {
   "cell_type": "markdown",
   "id": "58ce5c0c-6497-492e-a0bb-0dab9983274e",
   "metadata": {},
   "source": [
    "Firstly import numpy as np and by the help of list , loop and inbuilt function take two arrays as input.\n",
    "\n",
    "After that with the help of conditional let the user choose the operation\n",
    "\n",
    "Now after the choice print the result\n",
    "\n",
    "Program ends"
   ]
  },
  {
   "cell_type": "code",
   "execution_count": 8,
   "id": "ee7d0c7f-8ca6-431d-9e3b-f41159fe0ba2",
   "metadata": {},
   "outputs": [
    {
     "name": "stdin",
     "output_type": "stream",
     "text": [
      "Enter the number : 72\n",
      "Enter the number : 48\n"
     ]
    },
    {
     "name": "stdout",
     "output_type": "stream",
     "text": [
      "GCD of 72 and 48 is 24\n"
     ]
    }
   ],
   "source": [
    "#Q33 Write a program that calculates the greatest common divisor (GCD) of two numbers using the Euclidean algorithm.\n",
    "\n",
    "\n",
    "def gcd(a, b):\n",
    "    if (a == 0):\n",
    "        return b\n",
    "    if (b == 0):\n",
    "        return a\n",
    "    if (a == b):\n",
    "        return a\n",
    "    if (a > b):\n",
    "        return gcd(a-b, b)\n",
    "    return gcd(a, b-a)\n",
    " \n",
    "# Driver program to test above function\n",
    "a = int(input(\"Enter the number :\" ))\n",
    "b = int(input(\"Enter the number :\" ))\n",
    "if(gcd(a, b)):\n",
    "    print('GCD of', a, 'and', b, 'is', gcd(a, b))\n",
    "else:\n",
    "    print('not found')"
   ]
  },
  {
   "cell_type": "markdown",
   "id": "67484c73-0f6b-4f1f-baff-d6a03e1a1df4",
   "metadata": {},
   "source": [
    "Let  a, b  be the two numbers\n",
    "\n",
    "a mod b = R\n",
    "\n",
    "Let  a = b  and  b = R\n",
    "\n",
    "Repeat Steps 2 and 3 until  a mod b  is greater than 0\n",
    "\n",
    "GCD = b\n",
    "\n",
    "Finish"
   ]
  },
  {
   "cell_type": "code",
   "execution_count": 9,
   "id": "66df7536-f017-4a5a-8e8d-6be13488e916",
   "metadata": {},
   "outputs": [
    {
     "name": "stdout",
     "output_type": "stream",
     "text": [
      "[[58, 64], [139, 154]]\n"
     ]
    }
   ],
   "source": [
    "#Q34. Build a program that performs matrix multiplication using nested loops and conditional statements.\n",
    "\n",
    "\n",
    "def matrix_multiplication(A, B):\n",
    "    if len(A[0]) != len(B):\n",
    "        raise ValueError(\"Matrices cannot be multiplied.\")\n",
    "    C = [[0 for _ in range(len(B[0]))] for _ in range(len(A))]\n",
    "    for i in range(len(A)):\n",
    "        \n",
    "        for j in range(len(B[0])):\n",
    "            \n",
    "            for k in range(len(B)):\n",
    "               \n",
    "                C[i][j] += A[i][k] * B[k][j]\n",
    "\n",
    "    return C\n",
    "\n",
    "\n",
    "\n",
    "A = [[1, 2, 3], [4, 5, 6]]\n",
    "B = [[7, 8], [9, 10], [11, 12]]\n",
    "\n",
    "C = matrix_multiplication(A, B)\n",
    "\n",
    "print(C)"
   ]
  },
  {
   "cell_type": "markdown",
   "id": "83166941-507d-4443-a305-cff6b1b9d1e0",
   "metadata": {},
   "source": [
    "Store the matrix dimensions in different variables\n",
    "\n",
    "Check if the matrices are multiplication compatible.\n",
    "\n",
    "If no, terminate the program, otherwise continue.\n",
    "\n",
    "Iterate over the rows of matrix A using an index-variable i\n",
    "\n",
    "Inside the first loop, iterate over the columns of matrix B using the index-variable j\n",
    "\n",
    "Now initialize a variable curr_val to 0\n",
    "\n",
    "Create another loop iterating over the column dimension of A (or equivalently the row dimension of B) using a variable k\n",
    "\n",
    "For each iteration of the innermost loop, add the value of A[i][k]×B[k][j] to the variable curr_val\n",
    "\n",
    "After each iteration of the innermost loop, assign the value of curr_val to C[i][j]"
   ]
  },
  {
   "cell_type": "code",
   "execution_count": 28,
   "id": "7f83b083-c6c8-439a-aaa8-639f62b8505b",
   "metadata": {},
   "outputs": [
    {
     "name": "stdout",
     "output_type": "stream",
     "text": [
      "[[0 0 0]\n",
      " [0 0 0]\n",
      " [0 0 0]]\n",
      "Board after 1 move\n",
      "[[0 0 0]\n",
      " [0 0 0]\n",
      " [0 1 0]]\n",
      "Board after 2 move\n",
      "[[0 0 0]\n",
      " [0 0 0]\n",
      " [2 1 0]]\n",
      "Board after 3 move\n",
      "[[0 0 0]\n",
      " [1 0 0]\n",
      " [2 1 0]]\n",
      "Board after 4 move\n",
      "[[0 0 0]\n",
      " [1 0 0]\n",
      " [2 1 2]]\n",
      "Board after 5 move\n",
      "[[0 0 0]\n",
      " [1 1 0]\n",
      " [2 1 2]]\n",
      "Board after 6 move\n",
      "[[0 0 0]\n",
      " [1 1 2]\n",
      " [2 1 2]]\n",
      "Board after 7 move\n",
      "[[0 1 0]\n",
      " [1 1 2]\n",
      " [2 1 2]]\n",
      "Winner is: 1\n"
     ]
    }
   ],
   "source": [
    "#Q35. Create a program that simulates a basic text-based tic-tac-toe game against the computer.\n",
    "\n",
    "import numpy as np\n",
    "import random\n",
    "from time import sleep\n",
    "def create_board():\n",
    "    return(np.array([[0, 0, 0],\n",
    "                     [0, 0, 0],\n",
    "                     [0, 0, 0]]))\n",
    "def possibilities(board):\n",
    "    l = []\n",
    " \n",
    "    for i in range(len(board)):\n",
    "        for j in range(len(board)):\n",
    " \n",
    "            if board[i][j] == 0:\n",
    "                l.append((i, j))\n",
    "    return(l)\n",
    "def random_place(board, player):\n",
    "    selection = possibilities(board)\n",
    "    current_loc = random.choice(selection)\n",
    "    board[current_loc] = player\n",
    "    return(board)\n",
    "def row_win(board, player):\n",
    "    for x in range(len(board)):\n",
    "        win = True\n",
    " \n",
    "        for y in range(len(board)):\n",
    "            if board[x, y] != player:\n",
    "                win = False\n",
    "                continue\n",
    " \n",
    "        if win == True:\n",
    "            return(win)\n",
    "    return(win)\n",
    "def col_win(board, player):\n",
    "    for x in range(len(board)):\n",
    "        win = True\n",
    " \n",
    "        for y in range(len(board)):\n",
    "            if board[y][x] != player:\n",
    "                win = False\n",
    "                continue\n",
    " \n",
    "        if win == True:\n",
    "            return(win)\n",
    "    return(win)\n",
    "def diag_win(board, player):\n",
    "    win = True\n",
    "    y = 0\n",
    "    for x in range(len(board)):\n",
    "        if board[x, x] != player:\n",
    "            win = False\n",
    "    if win:\n",
    "        return win\n",
    "    win = True\n",
    "    if win:\n",
    "        for x in range(len(board)):\n",
    "            y = len(board) - 1 - x\n",
    "            if board[x, y] != player:\n",
    "                win = False\n",
    "    return win\n",
    "def evaluate(board):\n",
    "    winner = 0\n",
    " \n",
    "    for player in [1, 2]:\n",
    "        if (row_win(board, player) or\n",
    "                col_win(board, player) or\n",
    "                diag_win(board, player)):\n",
    " \n",
    "            winner = player\n",
    " \n",
    "    if np.all(board != 0) and winner == 0:\n",
    "        winner = -1\n",
    "    return winner\n",
    "def play_game():\n",
    "    board, winner, counter = create_board(), 0, 1\n",
    "    print(board)\n",
    "    sleep(2)\n",
    " \n",
    "    while winner == 0:\n",
    "        for player in [1, 2]:\n",
    "            board = random_place(board, player)\n",
    "            print(\"Board after \" + str(counter) + \" move\")\n",
    "            print(board)\n",
    "            sleep(2)\n",
    "            counter += 1\n",
    "            winner = evaluate(board)\n",
    "            if winner != 0:\n",
    "                break\n",
    "    return(winner)\n",
    " \n",
    " \n",
    "\n",
    "print(\"Winner is: \" + str(play_game()))"
   ]
  },
  {
   "cell_type": "markdown",
   "id": "4e553e5a-df83-4a1a-94b5-8978dc59dbe9",
   "metadata": {},
   "source": [
    "The code starts by importing all the necessary libraries.\n",
    "\n",
    "Next, it creates an empty board and checks for empty places on the board.\n",
    "\n",
    "The possibilities() function then selects a random place for the player and returns the board.\n",
    "\n",
    "The row_win(), col_win(), and diag_win() functions check whether the player has three of their marks in a horizontal row, vertical row, or diagonal row, respectively.\n",
    "\n",
    "If so, they return True and win is set to that player.\n",
    "\n",
    "If not, they continue checking until either one of these conditions is met.\n",
    "\n",
    "Finally, evaluate() determines whether there is a winner or tie based on the results of the other two functions.\n",
    "\n",
    "If there is no winner (i.e., all players have zero marks), then no action is taken and the program terminates with an error message stating that there was no game played!\n",
    "\n",
    "Otherwise, if both players have at least one mark in each column and row but not in any diagonal line (a situation called a deadlock), then play continues as normal with whoever has more wins being declared the winner.\n",
    "\n",
    "In case of a tie, play goes back to evaluating who won last time; this process repeats until somebody wins or somebody loses all their pieces (which ends up being Game Over\n",
    "\n",
    "The code creates an empty board and then checks for the player having three marks in a horizontal row, vertical row or diagonal row.\n",
    "\n",
    "If the player has achieved this, the code sets the winner variable to be equal to the corresponding value from that row on the board.\n",
    "\n",
    "If there is no winner, then all of the players’ pieces are set to 0 and the program ends."
   ]
  },
  {
   "cell_type": "code",
   "execution_count": 13,
   "id": "36f4eeca-58aa-4eda-ae4e-eba3f1883b16",
   "metadata": {},
   "outputs": [
    {
     "name": "stdin",
     "output_type": "stream",
     "text": [
      "Enter the number : 9\n"
     ]
    },
    {
     "name": "stdout",
     "output_type": "stream",
     "text": [
      "Fibonacci Series - \n",
      "0 1 1 2 3 5 8 13 21 "
     ]
    }
   ],
   "source": [
    "#Q36. Write a program that generates Fibonacci numbers up to a specified term using iterative methods\n",
    "\n",
    "def PrintFibonacci(length):\n",
    "    first = 0\n",
    "    second = 1\n",
    "    print(first, second, end=\" \")\n",
    "    length -= 2\n",
    "    while length > 0:\n",
    "        print(first + second, end=\" \")\n",
    "        temp = second\n",
    "        second = first + second\n",
    "        first = temp\n",
    "        length -= 1\n",
    "\n",
    "n=int(input(\"Enter the number :\"))\n",
    "print(\"Fibonacci Series - \")\n",
    "PrintFibonacci(n)"
   ]
  },
  {
   "cell_type": "markdown",
   "id": "fb227aaf-ae3d-4d7c-b444-4a0778bdeaef",
   "metadata": {},
   "source": [
    "Create 2 variables and initialize them with 0 and 1 (first = 0, second = 1)\n",
    "\n",
    "Create another variable to keep track of the length of the Fibonacci sequence to be printed (length) \n",
    "\n",
    "Loop (length is less than series length)Print first + second\n",
    "\n",
    "Update first and second variable (first will point to the second, and the second will point to first + second)\n",
    "\n",
    "Decrement the length variable and repeat from step 3\n",
    "\n",
    "Once the loop terminates, terminate the program"
   ]
  },
  {
   "cell_type": "code",
   "execution_count": 16,
   "id": "b72ea768-532d-4292-83d5-745120dbd4e4",
   "metadata": {},
   "outputs": [
    {
     "name": "stdin",
     "output_type": "stream",
     "text": [
      "Enter the number : 9\n"
     ]
    },
    {
     "name": "stdout",
     "output_type": "stream",
     "text": [
      "{0: 0, 1: 1, 2: 1, 3: 2, 4: 3, 5: 5, 6: 8, 7: 13, 8: 21, 9: 34}\n"
     ]
    }
   ],
   "source": [
    "#Q37. Develop a program that calculates the nth term of the Fibonacci sequence using memoization.\n",
    "\n",
    "def fibMem(n, fibdict):\n",
    "    if n in fibdict:\n",
    "        return fibdict\n",
    "    else:\n",
    "        fibMem(n - 1, fibdict)\n",
    "        fibdict[n] = fibdict[n - 1] + fibdict[n - 2]\n",
    "        return fibdict\n",
    "n=int(input(\"Enter the number :\"))\n",
    "print(fibMem(n, {0: 0, 1: 1}))"
   ]
  },
  {
   "cell_type": "markdown",
   "id": "9ec42ee3-ceb2-4d02-808d-b6179b85eb07",
   "metadata": {},
   "source": [
    "Like the alternative example for factorial memoization, the output is not the entire dictionary, but just fibMem2(8). Fair enough, if that’s all you need. And the complete dictionary is there - if you insert print(fibdict) right before the return statement you can have a peek. It’s just that you can’t get it out of the function - it gets discarded along with everything else once the final return of fibdict[n] occurs. In this way, it’s identical to how tri was behaving when we first tried to revise pascal()."
   ]
  },
  {
   "cell_type": "code",
   "execution_count": 23,
   "id": "4681b608-0e08-471a-ad4b-1d0962af0603",
   "metadata": {},
   "outputs": [
    {
     "name": "stdin",
     "output_type": "stream",
     "text": [
      "Enter the month  : 11\n",
      "Enter the year  : 2006\n"
     ]
    },
    {
     "name": "stdout",
     "output_type": "stream",
     "text": [
      "November 2006\n",
      "Su Mo Tu We Th Fr Sa\n",
      "         01 02 03 04 \n",
      "05 06 07 08 09 10 11 \n",
      "12 13 14 15 16 17 18 \n",
      "19 20 21 22 23 24 25 \n",
      "26 27 28 29 30 "
     ]
    }
   ],
   "source": [
    "#38. Create a program that generates a calendar for a given month and year using conditional statements.\n",
    "\n",
    "\n",
    "\n",
    "mm = int(input(\"Enter the month  :\"))\n",
    "yy = int(input(\"Enter the year  :\"))\n",
    "  \n",
    "month ={1:'January', 2:'February', 3:'March',  \n",
    "        4:'April', 5:'May', 6:'June', 7:'July', \n",
    "        8:'August', 9:'September', 10:'October', \n",
    "        11:'November', 12:'December'} \n",
    "   \n",
    "\n",
    "day =(yy-1)% 400\n",
    "day = (day//100)*5 + ((day % 100) - (day % 100)//4) + ((day % 100)//4)*2\n",
    "day = day % 7\n",
    "  \n",
    "nly =[31, 28, 31, 30, 31, 30,  \n",
    "      31, 31, 30, 31, 30, 31] \n",
    "ly =[31, 29, 31, 30, 31, 30,  \n",
    "     31, 31, 30, 31, 30, 31] \n",
    "s = 0\n",
    "  \n",
    "if yy % 4 == 0: \n",
    "    for i in range(mm-1): \n",
    "        s+= ly[i] \n",
    "else: \n",
    "    for i in range(mm-1): \n",
    "        s+= nly[i] \n",
    "  \n",
    "day += s % 7\n",
    "day = day % 7\n",
    "space ='' \n",
    "space = space.rjust(2, ' ') \n",
    "print(month[mm], yy) \n",
    "print('Su', 'Mo', 'Tu', 'We', 'Th', 'Fr', 'Sa') \n",
    "  \n",
    "if mm == 9 or mm == 4 or mm == 6 or mm == 11:  \n",
    "    for i in range(31 + day): \n",
    "          \n",
    "        if i<= day: \n",
    "            print(space, end =' ') \n",
    "        else: \n",
    "            print(\"{:02d}\".format(i-day), end =' ') \n",
    "            if (i + 1)% 7 == 0: \n",
    "                print() \n",
    "elif mm == 2: \n",
    "    if yy % 4 == 0: \n",
    "        p = 30\n",
    "    else: \n",
    "        p = 29\n",
    "          \n",
    "    for i in range(p + day): \n",
    "        if i<= day: \n",
    "            print(space, end =' ') \n",
    "        else: \n",
    "            print(\"{:02d}\".format(i-day), end =' ') \n",
    "            if (i + 1)% 7 == 0: \n",
    "                print()  \n",
    "else: \n",
    "    for i in range(32 + day): \n",
    "          \n",
    "        if i<= day: \n",
    "            print(space, end =' ') \n",
    "        else: \n",
    "            print(\"{:02d}\".format(i-day), end =' ') \n",
    "            if (i + 1)% 7 == 0: \n",
    "                print() "
   ]
  },
  {
   "cell_type": "code",
   "execution_count": 27,
   "id": "403fb863-2983-4241-bf51-52a239947183",
   "metadata": {},
   "outputs": [
    {
     "name": "stdout",
     "output_type": "stream",
     "text": [
      "Cards Player Has: [('7', 'Clubs'), ('King', 'Hearts')]\n",
      "Score Of The Player: 17\n",
      "\n",
      "\n"
     ]
    },
    {
     "name": "stdin",
     "output_type": "stream",
     "text": [
      "What do you want? [\"play\" to request another card, \"stop\" to stop]:  stop\n"
     ]
    },
    {
     "name": "stdout",
     "output_type": "stream",
     "text": [
      "Cards Dealer Has: [('10', 'Diamonds'), ('2', 'Hearts'), ('7', 'Hearts')]\n",
      "Score Of The Dealer: 19\n",
      "\n",
      "\n",
      "Cards Dealer Has: [('10', 'Diamonds'), ('2', 'Hearts'), ('7', 'Hearts')]\n",
      "Score Of The Dealer: 19\n",
      "Cards Player Has: [('7', 'Clubs'), ('King', 'Hearts')]\n",
      "Score Of The Player: 17\n",
      "Dealer wins (Dealer Has High Score than Player)\n"
     ]
    }
   ],
   "source": [
    "#Q39. Build a program that simulates a basic text-based blackjack game against the computer.\n",
    "\n",
    "import random \n",
    "  \n",
    "card_categories = ['Hearts', 'Diamonds', 'Clubs', 'Spades'] \n",
    "cards_list = ['Ace', '2', '3', '4', '5', '6', '7', '8', '9', '10', 'Jack', 'Queen', 'King'] \n",
    "deck = [(card, category) for category in card_categories for card in cards_list] \n",
    "  \n",
    "def card_value(card): \n",
    "    if card[0] in ['Jack', 'Queen', 'King']: \n",
    "        return 10\n",
    "    elif card[0] == 'Ace': \n",
    "        return 11\n",
    "    else: \n",
    "        return int(card[0]) \n",
    "  \n",
    "random.shuffle(deck) \n",
    "player_card = [deck.pop(), deck.pop()] \n",
    "dealer_card = [deck.pop(), deck.pop()] \n",
    "  \n",
    "while True: \n",
    "    player_score = sum(card_value(card) for card in player_card) \n",
    "    dealer_score = sum(card_value(card) for card in dealer_card) \n",
    "    print(\"Cards Player Has:\", player_card) \n",
    "    print(\"Score Of The Player:\", player_score) \n",
    "    print(\"\\n\") \n",
    "    choice = input('What do you want? [\"play\" to request another card, \"stop\" to stop]: ').lower() \n",
    "    if choice == \"play\": \n",
    "        new_card = deck.pop() \n",
    "        player_card.append(new_card) \n",
    "    elif choice == \"stop\": \n",
    "        break\n",
    "    else: \n",
    "        print(\"Invalid choice. Please try again.\") \n",
    "        continue\n",
    "  \n",
    "    if player_score > 21: \n",
    "        print(\"Cards Dealer Has:\", dealer_card) \n",
    "        print(\"Score Of The Dealer:\", dealer_score) \n",
    "        print(\"Cards Player Has:\", player_card) \n",
    "        print(\"Score Of The Player:\", player_score) \n",
    "        print(\"Dealer wins (Player Loss Because Player Score is exceeding 21)\") \n",
    "        break\n",
    "  \n",
    "while dealer_score < 17: \n",
    "    new_card = deck.pop() \n",
    "    dealer_card.append(new_card) \n",
    "    dealer_score += card_value(new_card) \n",
    "  \n",
    "print(\"Cards Dealer Has:\", dealer_card) \n",
    "print(\"Score Of The Dealer:\", dealer_score) \n",
    "print(\"\\n\") \n",
    "  \n",
    "if dealer_score > 21: \n",
    "    print(\"Cards Dealer Has:\", dealer_card) \n",
    "    print(\"Score Of The Dealer:\", dealer_score) \n",
    "    print(\"Cards Player Has:\", player_card) \n",
    "    print(\"Score Of The Player:\", player_score) \n",
    "    print(\"Player wins (Dealer Loss Because Dealer Score is exceeding 21)\") \n",
    "elif player_score > dealer_score: \n",
    "    print(\"Cards Dealer Has:\", dealer_card) \n",
    "    print(\"Score Of The Dealer:\", dealer_score) \n",
    "    print(\"Cards Player Has:\", player_card) \n",
    "    print(\"Score Of The Player:\", player_score) \n",
    "    print(\"Player wins (Player Has High Score than Dealer)\") \n",
    "elif dealer_score > player_score: \n",
    "    print(\"Cards Dealer Has:\", dealer_card) \n",
    "    print(\"Score Of The Dealer:\", dealer_score) \n",
    "    print(\"Cards Player Has:\", player_card) \n",
    "    print(\"Score Of The Player:\", player_score) \n",
    "    print(\"Dealer wins (Dealer Has High Score than Player)\") \n",
    "else: \n",
    "    print(\"Cards Dealer Has:\", dealer_card) \n",
    "    print(\"Score Of The Dealer:\", dealer_score) \n",
    "    print(\"Cards Player Has:\", player_card) \n",
    "    print(\"Score Of The Player:\", player_score) \n",
    "    print(\"It's a tie.\")"
   ]
  },
  {
   "cell_type": "markdown",
   "id": "f64599bb-e422-423a-aa1c-b67ddfe2307d",
   "metadata": {},
   "source": [
    "Firstly we import the Python Random module in our code for shuffling.\n",
    "\n",
    "After successfully importing the random module, we set up the deck by creating two lists: card_categories and cards_list.The deck is then constructed as a list of tuples, each representing a card \n",
    "\n",
    "In this step, we create a function called card_values() which takes cards as input and returns the corresponding point of the card. Cards numbered from 2 to 10 have the same points as their number. Face cards like Jack, Queen, and King have 10 points, and Aces have 11 points.\n",
    "\n",
    "After creating the function, we will use the random.shuffle() method to shuffle the cards and also after using random.shuffle() method we will need to deal the initial card so that Two hands of cards are distributed: one for the player and one for the dealer. Each hand starts with two cards.\n",
    "\n",
    "Next, with everything done, let’s write code that allows a player to “play”\n",
    "\n",
    "After a player has completed his turn, it is the dealer’s turn to draw cards until he has at least 17 points.\n",
    "\n",
    "This is the final step in which we have to determine the winner by comparing the player and dealer scores.\n",
    "\n",
    "If the player has scored greater than 21 then the player loses the game and the dealer wins the game. \n",
    "If the dealer has a score greater than 21 then the dealer loses the game and the player wins the game. \n",
    "If the player has scored higher than the dealer then the player wins the game. \n",
    "If the dealer has scored higher than the player’s score then the dealer wins the game. \n",
    "If both player and dealer have the same score then the game is considered a tie."
   ]
  },
  {
   "cell_type": "code",
   "execution_count": 26,
   "id": "9b18ccf2-5685-459b-85f9-b3c6d1159407",
   "metadata": {},
   "outputs": [
    {
     "name": "stdin",
     "output_type": "stream",
     "text": [
      "Enter the input : 77\n"
     ]
    },
    {
     "name": "stdout",
     "output_type": "stream",
     "text": [
      "Composite\n"
     ]
    }
   ],
   "source": [
    "#40. Write a program that generates the prime factors of a given number using trial division.\n",
    "\n",
    "\n",
    "\n",
    "def TrialDivision(N):\n",
    "    i = 2\n",
    "    k = int(N ** 0.5)\n",
    "    while(i<= k):\n",
    "        if(N % i == 0):\n",
    "            return 0\n",
    "        i += 1\n",
    "    return 1\n",
    "     \n",
    "\n",
    "N = int(input(\"Enter the input :\"))\n",
    "p = TrialDivision(N)\n",
    " \n",
    "if(p):\n",
    "    print(\"Prime\")\n",
    "else:\n",
    "    print(\"Composite\")"
   ]
  },
  {
   "cell_type": "markdown",
   "id": "ce7a123a-bbfd-4843-b6f3-5d32d377c331",
   "metadata": {},
   "source": [
    "The while loop is executed for a maximum of square root(N) times. Therefore, the time complexity of the while loop is O(sqrt(N)).\n",
    "\n",
    "The running time of all the if conditions are constant. Therefore, the time complexity of the if statements are O(1).\n",
    "\n",
    "Therefore, the overall time complexity is O(sqrt(N)).\n",
    "\n",
    "Optimized Trial Division Method: The above trial division method can be further optimized by eliminating all even numbers in the range [2, K] where K = square root(N) as 2 is the only even prime number. \n",
    "\n",
    "The overall complexity still remains the same but the number of executions gets reduced by half."
   ]
  }
 ],
 "metadata": {
  "kernelspec": {
   "display_name": "Python 3 (ipykernel)",
   "language": "python",
   "name": "python3"
  },
  "language_info": {
   "codemirror_mode": {
    "name": "ipython",
    "version": 3
   },
   "file_extension": ".py",
   "mimetype": "text/x-python",
   "name": "python",
   "nbconvert_exporter": "python",
   "pygments_lexer": "ipython3",
   "version": "3.10.8"
  }
 },
 "nbformat": 4,
 "nbformat_minor": 5
}
