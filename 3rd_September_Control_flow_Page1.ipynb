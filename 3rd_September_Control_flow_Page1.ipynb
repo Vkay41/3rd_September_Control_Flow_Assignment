{
 "cells": [
  {
   "cell_type": "code",
   "execution_count": null,
   "id": "52fd3b74-31ef-4f65-9bde-f41ef8edef9e",
   "metadata": {},
   "outputs": [],
   "source": [
    "#Control Flow Assignment Questions"
   ]
  },
  {
   "cell_type": "code",
   "execution_count": null,
   "id": "1c410053-cb88-4fa3-8728-40ef451e74cb",
   "metadata": {},
   "outputs": [],
   "source": [
    "#Basic If-Else Statements:"
   ]
  },
  {
   "cell_type": "code",
   "execution_count": 1,
   "id": "ab45a88c-a832-4bfa-afe8-9d760d36eb1f",
   "metadata": {},
   "outputs": [
    {
     "name": "stdin",
     "output_type": "stream",
     "text": [
      "Enter number:  -77\n"
     ]
    },
    {
     "name": "stdout",
     "output_type": "stream",
     "text": [
      "Number is negative\n"
     ]
    }
   ],
   "source": [
    "#Q1. Write a Python program to check if a given number is positive or negative\n",
    "\n",
    "\n",
    "\n",
    "n=int(input(\"Enter number: \"))\n",
    "if(n>0):\n",
    "    print(\"Number is positive\")\n",
    "else:\n",
    "    print(\"Number is negative\")"
   ]
  },
  {
   "cell_type": "markdown",
   "id": "c1993bf6-99ef-41e2-9bb8-d345b1590ad2",
   "metadata": {},
   "source": [
    "1. User must first enter the value and store it in a variable.\n",
    "\n",
    "2. Use an if statement to make a decision.\n",
    "\n",
    "3. If the value of the number is greater than 0, “Number is positive” is printed.\n",
    "\n",
    "4. If the value of the number if lesser than 0, ”Number is negative” is negative."
   ]
  },
  {
   "cell_type": "code",
   "execution_count": 2,
   "id": "4aee4850-fbef-4f09-ab58-82c229327f6d",
   "metadata": {},
   "outputs": [
    {
     "name": "stdin",
     "output_type": "stream",
     "text": [
      "Enter number:  22\n"
     ]
    },
    {
     "name": "stdout",
     "output_type": "stream",
     "text": [
      "::::Eligible to vote ::::\n"
     ]
    }
   ],
   "source": [
    "#Q2. Create a program that determines if a person is eligible to vote based on their age.\n",
    "\n",
    "n=int(input(\"Enter the age: \"))\n",
    "if(n>=18):\n",
    "    print(\"::::Eligible to vote ::::\")\n",
    "else:\n",
    "    print(\":::: Not Eligible to vote ::::\")"
   ]
  },
  {
   "cell_type": "markdown",
   "id": "0b791501-6c0d-44cf-9bbf-721b90515049",
   "metadata": {},
   "source": [
    "1. Take the value of the integer and store in a variable.\n",
    "\n",
    "2. Now Use an conditional statement to determine whether the person is eligible to vote based on their age.If yes then print eligible else not eligble.\n",
    "\n",
    "3. Exit."
   ]
  },
  {
   "cell_type": "code",
   "execution_count": 3,
   "id": "5636aed6-6f76-44bb-a1da-2b790211e55d",
   "metadata": {},
   "outputs": [
    {
     "name": "stdin",
     "output_type": "stream",
     "text": [
      "Enter the first number :  33\n",
      " Enter the second number :  44\n"
     ]
    },
    {
     "name": "stdout",
     "output_type": "stream",
     "text": [
      "::::Second number is greatest ::::\n"
     ]
    }
   ],
   "source": [
    "#Q3. Develop a program to find the maximum of two numbers using if-else statements\n",
    "\n",
    "\n",
    "n=int(input(\"Enter the first number : \"))\n",
    "m=int(input(\" Enter the second number : \"))\n",
    "if(n>m):\n",
    "    print(\"::::First number is greatest::::\")\n",
    "elif(m>n):\n",
    "    print(\"::::Second number is greatest ::::\")\n",
    "else:\n",
    "    print(\":::: Both are equal ::::\")"
   ]
  },
  {
   "cell_type": "markdown",
   "id": "e3cf9007-cd8e-4eaa-8e7a-edf3d9696acc",
   "metadata": {},
   "source": [
    "1. Get input from the user for num1 and num2.\n",
    "\n",
    "2. Using if-else ladder to get the maximum value,\n",
    "     \n",
    "             i) if(num1 > num2), print \"num1 is greater\".\n",
    "        \n",
    "            ii) ElseIf (num1 < num2), \"num2 is greater\".\n",
    "            \n",
    "            iii) Else, print \"both are equal\"."
   ]
  },
  {
   "cell_type": "code",
   "execution_count": 4,
   "id": "b7a2cdcd-9a59-4fea-bad3-2c31e6c9f8f5",
   "metadata": {},
   "outputs": [
    {
     "name": "stdin",
     "output_type": "stream",
     "text": [
      "Enter year to be checked: 1996\n"
     ]
    },
    {
     "name": "stdout",
     "output_type": "stream",
     "text": [
      "The year is a leap year!\n"
     ]
    }
   ],
   "source": [
    "#Q4. Write a Python script to classify a given year as a leap year or not.\n",
    "\n",
    "\n",
    "year=int(input(\"Enter year to be checked:\"))\n",
    "if(year%4==0 and year%100!=0 or year%400==0):\n",
    "    print(\"The year is a leap year!\")\n",
    "else:\n",
    "    print(\"The year isn't a leap year!\")"
   ]
  },
  {
   "cell_type": "markdown",
   "id": "406d1935-39bb-4d95-abc2-775e3ffe8bd4",
   "metadata": {},
   "source": [
    "1. User must first enter the year to be checked.\n",
    "\n",
    "2. The if statement checks if the year is a multiple of 4 but isn’t a multiple of 100 or if it is a multiple of 400 (not every year that is a multiple of 4 is a leap year).\n",
    "\n",
    "3. If the statment is true then leap year else not a leap year.Then the result is printed."
   ]
  },
  {
   "cell_type": "code",
   "execution_count": 6,
   "id": "566ff134-196e-4410-8460-aaf39c17b956",
   "metadata": {},
   "outputs": [
    {
     "name": "stdin",
     "output_type": "stream",
     "text": [
      "Enter the character :  r\n"
     ]
    },
    {
     "name": "stdout",
     "output_type": "stream",
     "text": [
      ":::: Consonant ::::\n"
     ]
    }
   ],
   "source": [
    "#Q5. Create a program that checks whether a character is a vowel or a consonant.\n",
    "\n",
    "n=str(input(\"Enter the character : \"))\n",
    "vowels=\"AEIOUaeiou\"\n",
    "if n in vowels:\n",
    "    print(\":::: Vowel ::::\")\n",
    "else:\n",
    "    print(\":::: Consonant ::::\")"
   ]
  },
  {
   "cell_type": "markdown",
   "id": "dfa20f1c-1ac8-474a-b345-2f6475ba26b2",
   "metadata": {},
   "source": [
    "1. Take the value of the string character and store in a variable.\n",
    "\n",
    "2. now Use an if statement to determine whether character is a vowel or a consonant. if true then vowel else constant.\n",
    "\n",
    "3. Exit."
   ]
  },
  {
   "cell_type": "code",
   "execution_count": 7,
   "id": "57973c0e-ca16-48ea-aa34-fb8d7dd50949",
   "metadata": {},
   "outputs": [
    {
     "name": "stdin",
     "output_type": "stream",
     "text": [
      "Enter a number:  7985\n"
     ]
    },
    {
     "name": "stdout",
     "output_type": "stream",
     "text": [
      "7985 is an odd number.\n"
     ]
    }
   ],
   "source": [
    "#6. Implement a program to determine whether a given number is even or odd.\n",
    "\n",
    "n = int(input(\"Enter a number: \"))\n",
    " \n",
    "if n % 2 == 0:\n",
    "    print(n, \"is an even number.\")\n",
    "else:\n",
    "    print(n, \"is an odd number.\")\n",
    "    "
   ]
  },
  {
   "cell_type": "markdown",
   "id": "e91478f0-f184-4caa-9546-414ef2ac9310",
   "metadata": {},
   "source": [
    "1. Prompt the user to enter a number.\n",
    "\n",
    "2. Read the input number and store it in a variable n.\n",
    "\n",
    "3. The program then uses the modulo operator % to check if the number divided by 2 leaves a remainder of 0.\n",
    "\n",
    "4. If the remainder is 0, it means the number is divisible by 2 and hence even.\n",
    "\n",
    "5. Otherwise, if the remainder is not 0, it is an odd number."
   ]
  },
  {
   "cell_type": "code",
   "execution_count": 16,
   "id": "7189524a-f972-4503-a390-f870014c1de1",
   "metadata": {},
   "outputs": [
    {
     "name": "stdin",
     "output_type": "stream",
     "text": [
      "Enter number:  -456\n"
     ]
    },
    {
     "name": "stdout",
     "output_type": "stream",
     "text": [
      "Absolute value 456\n"
     ]
    }
   ],
   "source": [
    "#Q7. Write a Python function to calculate the absolute value of a number without using the `abs()` function.\n",
    "\n",
    "\n",
    "n=int(input(\"Enter number: \"))\n",
    "if n < 0:\n",
    "    print(\"Absolute value\",-n)\n",
    "else:\n",
    "    print( \"Absolute value\",n)\n",
    "\n"
   ]
  },
  {
   "cell_type": "markdown",
   "id": "5e914989-b5aa-46ff-8cf0-760cea657c8f",
   "metadata": {},
   "source": [
    "1. Take the value of the integer and store in a variable.\n",
    "\n",
    "2. Now by using an if-else statement to determine the absolute value of a number without using the `abs()` function.\n",
    "\n",
    "3. Exit."
   ]
  },
  {
   "cell_type": "code",
   "execution_count": 17,
   "id": "2317abbd-428f-42c5-aaba-717dd5534be9",
   "metadata": {},
   "outputs": [
    {
     "name": "stdin",
     "output_type": "stream",
     "text": [
      "Enter the first number  : 33\n",
      "Enter the second number  : 33\n",
      "Enter the third number: 22\n"
     ]
    },
    {
     "name": "stdout",
     "output_type": "stream",
     "text": [
      ":: x & y is the greatest ::\n"
     ]
    }
   ],
   "source": [
    "#Q8. Develop a program that determines the largest of three given numbers using if-else statements.\n",
    "\n",
    "def greater_3(x,y,z):\n",
    "    if x > y and x>z:\n",
    "        print(\":: x is the greatest ::\")\n",
    "    elif y>x and y>z:\n",
    "         print(\":: y is the greatest ::\")\n",
    "    elif z>x and z>y:\n",
    "         print(\":: z is the greatest ::\")\n",
    "    elif x==y or y==z or x==z:\n",
    "        if x==y and y>z:\n",
    "            print(\":: x & y is the greatest ::\")\n",
    "        elif x==z and y<z:\n",
    "            print(\":: x & z is the greatest ::\")\n",
    "        else:\n",
    "            print(\":: z & y is the greatest ::\")\n",
    "    else:\n",
    "        print(\":: All are equal ::\")\n",
    "        \n",
    "        \n",
    "x=int(input(\"Enter the first number  :\"))\n",
    "y=int(input(\"Enter the second number  :\"))\n",
    "z=int(input(\"Enter the third number:\"))\n",
    "greater_3(x,y,z)"
   ]
  },
  {
   "cell_type": "markdown",
   "id": "38a4d3fe-a3b4-46c9-9c54-2502962f05c0",
   "metadata": {},
   "source": [
    "In this method, we manually compare each of the numbers from the other numbers to find the maximum or the largest among them.\n",
    "\n",
    "We will define a function and implement the following with the help of conditional statement:\n",
    "        \n",
    "                            if n1 is greater than both n2 and n3 then it will be printed as largest\n",
    "\n",
    "                            else if n2 is greater than both n1 and n3 then n2 will be printed as largest\n",
    "\n",
    "                            else n3 is greater than both n1 and n2 then n3 will be printed as largest\n",
    "                            \n",
    "                            else if x is equal to y & both are greater than z then print them as largest or y is equal to z & \n",
    "                            both are greater than x then print them as largest or x is equal to z & both are greater than y \n",
    "                            then print them as largest\n",
    "                            \n",
    "                            else all are equal\n",
    "\n",
    "Now in the the drivers code take 3 variable and take input from the user & call the function."
   ]
  },
  {
   "cell_type": "code",
   "execution_count": 19,
   "id": "bf3ef533-42db-46ef-84a1-f9533e13b989",
   "metadata": {},
   "outputs": [
    {
     "name": "stdin",
     "output_type": "stream",
     "text": [
      "Enter string: madam\n"
     ]
    },
    {
     "name": "stdout",
     "output_type": "stream",
     "text": [
      "The string is a palindrome\n"
     ]
    }
   ],
   "source": [
    "#Q9. Create a program that checks if a given string is a palindrome.\n",
    "\n",
    "string=str(input(\"Enter string:\"))\n",
    "if(string==string[::-1]):\n",
    "      print(\"The string is a palindrome\")\n",
    "else:\n",
    "      print(\"The string isn't a palindrome\")"
   ]
  },
  {
   "cell_type": "markdown",
   "id": "a0337a45-5834-4dc7-b6c7-12fed31e95c6",
   "metadata": {},
   "source": [
    "1. Take a string from the user and store it in a variable.\n",
    "\n",
    "2. Reverse the string using string slicing and compare it back to the original string.\n",
    "\n",
    "3. Print the final result\n",
    "\n",
    "4. Exit."
   ]
  },
  {
   "cell_type": "code",
   "execution_count": 20,
   "id": "9e5a7e42-8d6d-4ca1-95e3-1cd8c0c9d71f",
   "metadata": {},
   "outputs": [
    {
     "name": "stdin",
     "output_type": "stream",
     "text": [
      "Enter the total marks obtain : 765\n",
      "Enter the total marks  : 1000\n"
     ]
    },
    {
     "name": "stdout",
     "output_type": "stream",
     "text": [
      "::  Distinction :: 76.5\n"
     ]
    }
   ],
   "source": [
    "#Q10. Write a Python program to calculate the grade based on a student's score\n",
    "\n",
    "\n",
    "\n",
    "def check_percentage(x):\n",
    "    if x>=75 :\n",
    "        print(\"::  Distinction ::\",x)\n",
    "    elif x>=60 and x<75:\n",
    "        print(\":: First Class ::\",x)\n",
    "    elif x>=50 and x<60:\n",
    "        print(\":: Second Divison ::\",x)\n",
    "    elif x>=40 and x<50:\n",
    "        print(\":: Third Divison ::\",x)\n",
    "    elif x>=34 and x<40:\n",
    "        print(\":: Fourth Divison ::\",x)\n",
    "    else:\n",
    "        print(\":: Fail ::\")\n",
    "        \n",
    "m=int(input(\"Enter the total marks obtain :\"))\n",
    "total =int(input(\"Enter the total marks  :\"))\n",
    "x=(m*100)/total\n",
    "check_percentage(x)\n"
   ]
  },
  {
   "cell_type": "markdown",
   "id": "818e16b1-22d2-4f13-9cfb-5a29ed57b103",
   "metadata": {},
   "source": [
    "Firstly take multiple  input from user and store in diffrent varible . \n",
    "\n",
    "Take input for marks obtained and total marks.Also find the pecentage and store it in a variable x.\n",
    "\n",
    "Now call the function check_percentage with argument x.\n",
    "\n",
    "In function check the percentage weightage with the help of conditional element.\n",
    "\n",
    "Now according to the conditional staments print the  Divison or weightage of the student marks   ."
   ]
  },
  {
   "cell_type": "code",
   "execution_count": 21,
   "id": "677ecc38-dc2b-49b4-99d6-ffc0f144da35",
   "metadata": {},
   "outputs": [],
   "source": [
    "#Nested If-Else Statements :"
   ]
  },
  {
   "cell_type": "code",
   "execution_count": 22,
   "id": "4e47c4ee-2c9a-4445-8bf1-77d8786f6394",
   "metadata": {},
   "outputs": [
    {
     "name": "stdin",
     "output_type": "stream",
     "text": [
      "Enter the first number  : 47\n",
      "Enter the second number  : 86\n",
      "Enter the third number: 49\n"
     ]
    },
    {
     "name": "stdout",
     "output_type": "stream",
     "text": [
      ":: y is the greatest ::\n"
     ]
    }
   ],
   "source": [
    "#Q11. Write a program to find the largest among three numbers using nested if-else statements\n",
    "\n",
    "\n",
    "\n",
    "\n",
    "def greater_3(x,y,z):\n",
    "    if x > y and x>z:\n",
    "        print(\":: x is the greatest ::\")\n",
    "    elif y>x and y>z:\n",
    "         print(\":: y is the greatest ::\")\n",
    "    elif z>x and z>y:\n",
    "         print(\":: z is the greatest ::\")\n",
    "    elif x==y or y==z or x==z:\n",
    "        if x==y and y>z:\n",
    "            print(\":: x & y is the greatest ::\")\n",
    "        elif x==z and y<z:\n",
    "            print(\":: x & z is the greatest ::\")\n",
    "        else:\n",
    "            print(\":: z & y is the greatest ::\")\n",
    "    else:\n",
    "        print(\":: All are equal ::\")\n",
    "        \n",
    "        \n",
    "x=int(input(\"Enter the first number  :\"))\n",
    "y=int(input(\"Enter the second number  :\"))\n",
    "z=int(input(\"Enter the third number:\"))\n",
    "greater_3(x,y,z)"
   ]
  },
  {
   "cell_type": "markdown",
   "id": "c1516f5c-915d-41c6-b5c6-02cf35466f3f",
   "metadata": {},
   "source": [
    "In this method, we manually compare each of the numbers from the other numbers to find the maximum or the largest among them.\n",
    "\n",
    "We will define a function and implement the following with the help of conditional statement:\n",
    "        \n",
    "                            if n1 is greater than both n2 and n3 then it will be printed as largest\n",
    "\n",
    "                            else if n2 is greater than both n1 and n3 then n2 will be printed as largest\n",
    "\n",
    "                            else n3 is greater than both n1 and n2 then n3 will be printed as largest\n",
    "                            \n",
    "                            else if x is equal to y & both are greater than z then print them as largest or y is equal to z & \n",
    "                            both are greater than x then print them as largest or x is equal to z & both are greater than y \n",
    "                            then print them as largest\n",
    "                            \n",
    "                            else all are equal\n",
    "\n",
    "Now in the the drivers code take 3 variable and take input from the user & call the function."
   ]
  },
  {
   "cell_type": "code",
   "execution_count": 23,
   "id": "ce2d7a7d-dc79-41af-9535-331195546c13",
   "metadata": {},
   "outputs": [
    {
     "name": "stdin",
     "output_type": "stream",
     "text": [
      "Enter the first side length : 33\n",
      "Enter the second side length : 44\n",
      "Enter the Third side length  : 33\n"
     ]
    },
    {
     "name": "stdout",
     "output_type": "stream",
     "text": [
      ":: Isosceles ::\n"
     ]
    }
   ],
   "source": [
    "#Q12. Implement a program to determine if a triangle is equilateral, isosceles, or scalene.\n",
    "\n",
    "\n",
    "y=int(input(\"Enter the first side length :\"))\n",
    "z=int(input(\"Enter the second side length :\"))\n",
    "x=int(input(\"Enter the Third side length  :\"))\n",
    "if x==y and y==z:\n",
    "    print(\":: Equilateral ::\")\n",
    "elif x==y or y==z or x==z:\n",
    "    print(\":: Isosceles ::\")\n",
    "else:\n",
    "    print(\":: Scalene ::\")"
   ]
  },
  {
   "cell_type": "markdown",
   "id": "7052646c-84aa-4618-b4d6-6b86804d1174",
   "metadata": {},
   "source": [
    "We will define a function and implement the following with the help of conditional statement:\n",
    "\n",
    "                        if all three sides are equal then it will be printed as An equilateral triangle\n",
    "\n",
    "                        else  at least two equal sides will be printed as An isosceles triangle\n",
    "                        \n",
    "                        else A scalene triangle\n",
    "                    \n",
    "Now in the the drivers code take 3 variale and take input from the user & call the function."
   ]
  },
  {
   "cell_type": "code",
   "execution_count": 26,
   "id": "d5836baf-9294-4d3e-a50b-f83ae14e3b22",
   "metadata": {},
   "outputs": [
    {
     "name": "stdin",
     "output_type": "stream",
     "text": [
      "Enter any year that is to be checked for leap year:  1996\n"
     ]
    },
    {
     "name": "stdout",
     "output_type": "stream",
     "text": [
      "It is not a leap year\n"
     ]
    }
   ],
   "source": [
    "#13. Develop a program that checks if a year is a leap year and also if it is a century year.\n",
    "\n",
    "\n",
    "\n",
    "\n",
    "year = int (input (\"Enter any year that is to be checked for leap year: \"))\n",
    "\n",
    "if (year % 4) == 0:\n",
    "    if (year % 100) == 0:\n",
    "        if (year % 400) == 0:\n",
    "            print (\"The given year is a leap year\")\n",
    "        else:\n",
    "            print (\"It is not a leap year\")\n",
    "    else:\n",
    "        print (\"It is not a leap year\")\n",
    "\n",
    "else:\n",
    "    print (\"It is not a leap year\")"
   ]
  },
  {
   "cell_type": "markdown",
   "id": "e70490fc-720e-4868-8cca-135845ea09d3",
   "metadata": {},
   "source": [
    "In the source code, the program first checks whether the given year is divisible by 4. \n",
    "\n",
    "If the condition is true, it will then check if the year is divisible by 100. Again, if true, it will then check the divisibility of the year with 400. \n",
    "\n",
    "If these conditions are satisfied, then the program will provide the output that displays that the given year is a leap year.  "
   ]
  },
  {
   "cell_type": "code",
   "execution_count": 27,
   "id": "fd30d027-2a82-42d3-a62e-e295ad748d25",
   "metadata": {},
   "outputs": [
    {
     "name": "stdin",
     "output_type": "stream",
     "text": [
      "Enter the number:  -77\n"
     ]
    },
    {
     "name": "stdout",
     "output_type": "stream",
     "text": [
      "Negative\n"
     ]
    }
   ],
   "source": [
    "#14. Write a Python script to determine if a number is positive, negative, or zero.\n",
    "\n",
    "num = int (input (\"Enter the number: \"))\n",
    "if num > 0:\n",
    "    print('Positive')\n",
    "elif num < 0:\n",
    "    print('Negative')\n",
    "else:\n",
    "    print('Zero')"
   ]
  },
  {
   "cell_type": "markdown",
   "id": "9d4bda6d-a55d-4832-abb8-0c5ba4b89a54",
   "metadata": {},
   "source": [
    "Initialize num as per user input\n",
    "\n",
    "If the num > 0: it is a positive number.\n",
    "\n",
    "If the num < 0: it is a Negative number.\n",
    "\n",
    "Else the number has to be zero itself"
   ]
  },
  {
   "cell_type": "code",
   "execution_count": 28,
   "id": "66911497-3fd2-4283-80ba-9a87b8721f8a",
   "metadata": {},
   "outputs": [
    {
     "name": "stdin",
     "output_type": "stream",
     "text": [
      "Enter the age value you want to check : 33\n"
     ]
    },
    {
     "name": "stdout",
     "output_type": "stream",
     "text": [
      ":: The person is Young Age Citizen ::\n"
     ]
    }
   ],
   "source": [
    "#Q15. Create a program to check if a person is a teenager (between 13 and 19 years old).\n",
    "\n",
    "\n",
    "def check_age_group(x):\n",
    "    if x>=60:\n",
    "        print(\":: The person is Senior Citizen ::\")\n",
    "    elif x>=40 and x<60:\n",
    "        print(\":: The person is Middle Age Citizen ::\")\n",
    "    elif x>=20 and x<40:\n",
    "        print(\":: The person is Young Age Citizen ::\")\n",
    "    elif x>=13 and x<20:\n",
    "        print(\":: The person is Teenage Citizen ::\")\n",
    "    else:\n",
    "        print(\":: The person is a Child::\")\n",
    "        \n",
    "x=int(input(\"Enter the age value you want to check :\"))\n",
    "check_age_group(x)"
   ]
  },
  {
   "cell_type": "markdown",
   "id": "cea5ef14-903b-4418-8cf3-50b8c2871e76",
   "metadata": {},
   "source": [
    "We will define a function and implement the following with the help of conditional statement:\n",
    "\n",
    "                        if age value is greater than equal to 60 then it will be printed as Senior Citizen\n",
    "\n",
    "                        elif  age value is greater than equal to 40 & less 60 then it will be printed as Middle Age Citizen\n",
    "            \n",
    "                        elif  age value is greater than equal to 20 & less 40 then it will be printed as Young Age Citizen\n",
    "                \n",
    "                        elif  age value is greater than equal to 20 & less 40 then it will be printed as Teen Age Citizen\n",
    "                        \n",
    "                        else printed as Child\n",
    "                        \n",
    "                    \n",
    "Now in the the drivers code take a variale and take input from the user & call the function."
   ]
  },
  {
   "cell_type": "code",
   "execution_count": 29,
   "id": "3c7e52f0-843a-4e5d-904e-4ffd3d3e4a17",
   "metadata": {},
   "outputs": [
    {
     "name": "stdin",
     "output_type": "stream",
     "text": [
      "Enter the first angle : 45\n",
      "Enter the second angle : 45\n",
      "Enter the Third angle  : 90\n"
     ]
    },
    {
     "name": "stdout",
     "output_type": "stream",
     "text": [
      ":: Right ::\n"
     ]
    }
   ],
   "source": [
    "#Q16. Develop a program that determines the type of angle based on its measure (acute, obtuse, or right).\n",
    "\n",
    "y=int(input(\"Enter the first angle :\"))\n",
    "z=int(input(\"Enter the second angle :\"))\n",
    "x=int(input(\"Enter the Third angle  :\"))\n",
    "if x+y+z==180:\n",
    "    if x==90 or y==90 or z==90:\n",
    "        print(\":: Right Angle ::\")\n",
    "    elif x>90 or y>90 or z>=90:\n",
    "        print(\":: Obtuse ::\")\n",
    "    else:\n",
    "        print(\":: Acute ::\")\n",
    "else:\n",
    "    print(\":: Invalid::\")"
   ]
  },
  {
   "cell_type": "markdown",
   "id": "0dd4d96c-33e0-4120-a22c-a547c69c8143",
   "metadata": {},
   "source": [
    "We will define a function and implement the following with the help of conditional statement:\n",
    "\n",
    "Firstly if the sum of the angles is equal to 180 or not if yes then below statement would checked else invalid\n",
    "\n",
    "                        if any of the three angles are equal to 90 degree then it will be printed as An Right Angle triangle\n",
    "\n",
    "                        else  at least angle greater than 90 degree then it will be printed as An Obtuse triangle\n",
    "                        \n",
    "                        else Acute triangle\n",
    "                    \n",
    "Now in the the drivers code take 3 variale and take input from the user & call the function."
   ]
  },
  {
   "cell_type": "code",
   "execution_count": 30,
   "id": "f413eff2-9839-451d-88e9-543801f4a96e",
   "metadata": {},
   "outputs": [
    {
     "name": "stdout",
     "output_type": "stream",
     "text": [
      "Equation: ax^2 + bx + c \n"
     ]
    },
    {
     "name": "stdin",
     "output_type": "stream",
     "text": [
      "Enter a:  3\n",
      "Enter b:  5\n",
      "Enter c:  8\n"
     ]
    },
    {
     "name": "stdout",
     "output_type": "stream",
     "text": [
      "The roots are imaginary. \n"
     ]
    }
   ],
   "source": [
    "#17. Write a Python program to calculate the roots of a quadratic equation\n",
    "\n",
    "print(\"Equation: ax^2 + bx + c \")\n",
    "a=int(input(\"Enter a: \"))\n",
    "b=int(input(\"Enter b: \"))\n",
    "c=int(input(\"Enter c: \"))\n",
    "d=b**2-4*a*c\n",
    "d1=d**0.5\n",
    "if(d<0):\n",
    "    print(\"The roots are imaginary. \")\n",
    "else:\n",
    "    r1=(-b+d1)/2*a\n",
    "    r2=(-b-d1)/2*a\n",
    "    print(\"The first root: \",round(r1,2))\n",
    "    print(\"The second root: \",round(r2,2))"
   ]
  },
  {
   "cell_type": "markdown",
   "id": "00d9986f-1b1b-4630-bbe5-3c8bc294c923",
   "metadata": {},
   "source": [
    "1. User must enter the coefficients of the equations and store it in three separate variables.\n",
    "\n",
    "2. The value value of the discriminant, d, is found out which determines the nature of roots of the equation.\n",
    "\n",
    "3. If the value of the discriminant is lesser than 0, the roots are imaginary.\n",
    "\n",
    "4. If the value of the discriminant is greater than 0, the roots aren’t imaginary.\n",
    "\n",
    "5. The value of the roots is found out using the quadratic formula.\n",
    "\n",
    "6. The roots of the equation are printed."
   ]
  },
  {
   "cell_type": "code",
   "execution_count": 31,
   "id": "29672f90-fa79-4561-a2d7-a24c204b926a",
   "metadata": {},
   "outputs": [
    {
     "name": "stdin",
     "output_type": "stream",
     "text": [
      "Enter a number from 1 to 7:  3\n"
     ]
    },
    {
     "name": "stdout",
     "output_type": "stream",
     "text": [
      "3 is Tuesday\n"
     ]
    }
   ],
   "source": [
    "#18. Implement a program to determine the day of the week based on a user-provided number (1 for Monday, 2for Tuesday, etc.)\n",
    "\n",
    "\n",
    "day = int(input(\"Enter a number from 1 to 7: \"))\n",
    "\n",
    "if day == 1:\n",
    "    print(day, \"is Sunday\")\n",
    "elif day == 2:\n",
    "    print(day, \"is Monday\")\n",
    "elif day == 3:\n",
    "    print(day, \"is Tuesday\")\n",
    "elif day == 4:\n",
    "    print(day, \"is Wednesday\")\n",
    "elif day == 5:\n",
    "    print(day, \"is Thursday\")\n",
    "elif day == 6:\n",
    "    print(day, \"is Friday\")\n",
    "elif day == 7:\n",
    "    print(day, \"is Saturday\")\n",
    "else:\n",
    "    print(\"Wrong input! Please enter a number from 1 to 7.\")"
   ]
  },
  {
   "cell_type": "markdown",
   "id": "b05e6790-7a4c-479d-be24-83df6cca8044",
   "metadata": {},
   "source": [
    "To implement this, we need to take input from the user and store it in a variable.\n",
    "\n",
    "After taking input from the user, we have to compare that number with 1 to 7, or we can say, compare that number with a day of the week.\n",
    "\n",
    "So the logic goes like– if the number is equal to 1, then it is Monday, if the number is 2, then it is Tuesday; like that, we have to compare with each day of the week.\n"
   ]
  },
  {
   "cell_type": "code",
   "execution_count": 33,
   "id": "1a35c616-13f4-49bb-bd1a-146a5cf18ba1",
   "metadata": {},
   "outputs": [
    {
     "name": "stdin",
     "output_type": "stream",
     "text": [
      "Enter year to be checked: 2000\n"
     ]
    },
    {
     "name": "stdout",
     "output_type": "stream",
     "text": [
      "The year is a leap year!\n"
     ]
    }
   ],
   "source": [
    "#Q19. Create a program that determines if a year is a leap year and also if it is evenly divisible by 400\n",
    "\n",
    "\n",
    "\n",
    "year=int(input(\"Enter year to be checked:\"))\n",
    "if(year%4==0 and year%100!=0 or year%400==0):\n",
    "    print(\"The year is a leap year!\")\n",
    "else:\n",
    "    print(\"The year isn't a leap year!\")\n",
    "    "
   ]
  },
  {
   "cell_type": "markdown",
   "id": "5a7d9ffe-ebf0-4c01-bf4f-a4add94b64c5",
   "metadata": {},
   "source": [
    "1. User must first enter the year to be checked.\n",
    "\n",
    "2. The if statement checks if the year is a multiple of 4 but isn’t a multiple of 100 or if it is a multiple of 400 (not every year that is a multiple of 4 is a leap year).\n",
    "\n",
    "3. Then the result is printed.\n"
   ]
  },
  {
   "cell_type": "code",
   "execution_count": 1,
   "id": "54b483f4-51e7-4bce-8201-c9a0d990d851",
   "metadata": {},
   "outputs": [
    {
     "name": "stdin",
     "output_type": "stream",
     "text": [
      "Enter the number:  47\n"
     ]
    },
    {
     "name": "stdout",
     "output_type": "stream",
     "text": [
      "47 is a prime number\n"
     ]
    }
   ],
   "source": [
    "#Q20. Develop a program that checks if a given number is prime or not using nested if-else statements\n",
    "\n",
    "\n",
    "num = int (input (\"Enter the number: \"))\n",
    "\n",
    "if num == 1:\n",
    "    print(num, \"is not a prime number\")\n",
    "elif num > 1:\n",
    "    for i in range(2,num):\n",
    "        if (num % i) == 0:\n",
    "            print(num,\"is not a prime number\")\n",
    "            print(i,\"times\",num//i,\"is\",num)\n",
    "            break\n",
    "    else:\n",
    "        print(num,\"is a prime number\")\n",
    "else:\n",
    "    print(num,\"is not a prime number\")"
   ]
  },
  {
   "cell_type": "markdown",
   "id": "c749c0f6-bf17-4190-94be-2e96e0437dc7",
   "metadata": {},
   "source": [
    "Here, we have used a for..else statement to check if num is prime.\n",
    "\n",
    "It works on the logic that the else clause of the for loop runs if and only if we don't break out the for loop.\n",
    "\n",
    "That condition is met only when no factors are found, which means that the given number is prime.\n",
    "\n",
    "So, in the else clause, we print that the number is prime."
   ]
  },
  {
   "cell_type": "code",
   "execution_count": 2,
   "id": "57840a68-170c-428e-b944-1512b1ee6fa2",
   "metadata": {},
   "outputs": [],
   "source": [
    "#Elif Statements:"
   ]
  },
  {
   "cell_type": "code",
   "execution_count": 4,
   "id": "d9ce2efd-e798-414d-8ab8-9a9d81c526c2",
   "metadata": {},
   "outputs": [
    {
     "name": "stdin",
     "output_type": "stream",
     "text": [
      "Enter marks of the first subject:  69\n",
      "Enter marks of the second subject:  51\n",
      "Enter marks of the third subject:  91\n",
      "Enter marks of the fourth subject:  81\n",
      "Enter marks of the fifth subject:  88\n"
     ]
    },
    {
     "name": "stdout",
     "output_type": "stream",
     "text": [
      "Grade: C\n"
     ]
    }
   ],
   "source": [
    "#Q21. Write a Python program to assign grades based on different ranges of scores using elif statements\n",
    "\n",
    "\n",
    " \n",
    "sub1=int(input(\"Enter marks of the first subject: \"))\n",
    "sub2=int(input(\"Enter marks of the second subject: \"))\n",
    "sub3=int(input(\"Enter marks of the third subject: \"))\n",
    "sub4=int(input(\"Enter marks of the fourth subject: \"))\n",
    "sub5=int(input(\"Enter marks of the fifth subject: \"))\n",
    "avg=(sub1+sub2+sub3+sub4+sub4)/5\n",
    "if(avg>=90):\n",
    "    print(\"Grade: A\")\n",
    "elif(avg>=80 and avg<90):\n",
    "    print(\"Grade: B\")\n",
    "elif(avg>=70 and avg<80):\n",
    "    print(\"Grade: C\")\n",
    "elif(avg>=60 and avg<70):\n",
    "    print(\"Grade: D\")\n",
    "else:\n",
    "    print(\"Grade: F\")"
   ]
  },
  {
   "cell_type": "markdown",
   "id": "afd7a91c-af82-44dd-a008-0b648e58499d",
   "metadata": {},
   "source": [
    "1. User must enter 5 different values and store it in separate variables.\n",
    "\n",
    "2. Then sum up all the five marks and divide by 5 to find the average of the marks.\n",
    "\n",
    "3. If the average is greater than 90, “Grade: A” is printed.\n",
    "\n",
    "4. If the average is in between 80 and 90, “Grade: B” is printed.\n",
    "\n",
    "5. If the average is in between 70 and 80, “Grade: C” is printed.\n",
    "\n",
    "6. If the average is in between 60 and 70, “Grade: D” is printed.\n",
    "\n",
    "7. If the average is anything below 60, “Grade: F” is printed."
   ]
  },
  {
   "cell_type": "code",
   "execution_count": 1,
   "id": "c1531f51-fc29-44c7-8428-3de3d63efb00",
   "metadata": {},
   "outputs": [
    {
     "name": "stdin",
     "output_type": "stream",
     "text": [
      "Enter the first angle : 70\n",
      "Enter the second angle : 50\n",
      "Enter the Third angle  : 60\n"
     ]
    },
    {
     "name": "stdout",
     "output_type": "stream",
     "text": [
      ":: Acute ::\n"
     ]
    }
   ],
   "source": [
    "#Q22. Implement a program to determine the type of a triangle based on its angles.\n",
    "\n",
    "\n",
    "y=int(input(\"Enter the first angle :\"))\n",
    "z=int(input(\"Enter the second angle :\"))\n",
    "x=int(input(\"Enter the Third angle  :\"))\n",
    "if x+y+z==180:\n",
    "    if x==90 or y==90 or z==90:\n",
    "        print(\":: Right Angle ::\")\n",
    "    elif x>90 or y>90 or z>=90:\n",
    "        print(\":: Obtuse ::\")\n",
    "    else:\n",
    "        print(\":: Acute ::\")\n",
    "else:\n",
    "    print(\":: Invalid::\")"
   ]
  },
  {
   "cell_type": "markdown",
   "id": "b5a905e2-8a8c-464e-81f0-a578b64cfca8",
   "metadata": {},
   "source": [
    "We will define a function and implement the following with the help of conditional statement:\n",
    "\n",
    "Firstly if the sum of the angles is equal to 180 or not if yes then below statement would checked else invalid\n",
    "\n",
    "                        if any of the three angles are equal to 90 degree then it will be printed as An Right Angle triangle\n",
    "\n",
    "                        else  at least angle greater than 90 degree then it will be printed as An Obtuse triangle\n",
    "                        \n",
    "                        else Acute triangle\n",
    "                    \n",
    "Now in the the drivers code take 3 variale and take input from the user & call the function."
   ]
  },
  {
   "cell_type": "code",
   "execution_count": 4,
   "id": "db2e1398-6036-4bf8-85e6-00e9232df63d",
   "metadata": {},
   "outputs": [
    {
     "name": "stdin",
     "output_type": "stream",
     "text": [
      "Enter your weight in kilograms:  75\n",
      "Enter your height in meters:  1.52\n"
     ]
    },
    {
     "name": "stdout",
     "output_type": "stream",
     "text": [
      "Category: Severely Overweight\n"
     ]
    }
   ],
   "source": [
    "#23. Develop a program to categorize a given person's BMI into underweight, normal, overweight, or obese using elif statements\n",
    "\n",
    "\n",
    "\n",
    "weight = float(input(\"Enter your weight in kilograms: \"))\n",
    "height = float(input(\"Enter your height in meters: \"))\n",
    " \n",
    "BMI = weight / (height * height)\n",
    "\n",
    "\n",
    "if BMI < 18.5:\n",
    "    print(\"Category: Underweight\")\n",
    "elif BMI <= 24.9:\n",
    "    print(\"Category: Normal weight\")\n",
    "elif BMI <= 29.9:\n",
    "    print(\"Category: Overweight\")\n",
    "elif BMI <= 34.9:\n",
    "    print(\"Category: Severely Overweight\")\n",
    "elif BMI <= 39.9:\n",
    "    print(\"Category: Obesity\")\n",
    "else:\n",
    "    print(\"Category: Severely Obesity\")"
   ]
  },
  {
   "cell_type": "markdown",
   "id": "2818b544-f9ff-4b59-ba1c-db2a4c76c4a6",
   "metadata": {},
   "source": [
    "Define 2 variable & Prompt the user to enter their weight and height\n",
    "\n",
    "Now Calculate the BMI with the help of the formula BMI = weight / (height * height)\n",
    "\n",
    "Now Classify the BMI by executing the following with the help of the if-else statement\n",
    "\n",
    "            if BMI is less than or equal to 18.4 then You are underweight. will be printed.\n",
    "    \n",
    "            if BMI is less than or equal to 24.9 then You are healthy. will be printed.\n",
    "        \n",
    "            if BMI is less than or equal to 29.9 then You are over weight. will be printed.\n",
    "            \n",
    "            if BMI is less than or equal to 34.9 then You are severely over weight. will be printed.\n",
    "            \n",
    "            if BMI is less than or equal to 39.9 then You are obese. will be printed.\n",
    "            \n",
    "            if BMI none of the above are true then You are severely obese. will be printed."
   ]
  },
  {
   "cell_type": "code",
   "execution_count": 6,
   "id": "6a6f5c3c-39f7-4897-86a1-9a1710d0ccdd",
   "metadata": {},
   "outputs": [
    {
     "name": "stdin",
     "output_type": "stream",
     "text": [
      "Enter number:  -77\n"
     ]
    },
    {
     "name": "stdout",
     "output_type": "stream",
     "text": [
      "Number is negative\n"
     ]
    }
   ],
   "source": [
    "#Q24. Create a program that determines whether a given number is positive, negative, or zero using elif statements.\n",
    "\n",
    "\n",
    "\n",
    "n=int(input(\"Enter number: \"))\n",
    "if(n>0):\n",
    "    print(\"Number is positive\")\n",
    "elif(n<0):\n",
    "    print(\"Number is negative\")\n",
    "else:\n",
    "    print(\"Number is Zero\")"
   ]
  },
  {
   "cell_type": "markdown",
   "id": "c4047eb8-e230-4ad7-9571-f54113aad32d",
   "metadata": {},
   "source": [
    "1. User must first enter the value and store it in a variable.\n",
    "\n",
    "2. Use an if statement to make a decision.\n",
    "\n",
    "3. If the value of the number is greater than 0, “Number is positive” is printed.\n",
    "\n",
    "4. If the value of the number if lesser than 0, ”Number is negative” is negative.\n",
    "\n",
    "5.If the value of the number is equal to 0, “Number is Zero” is printed"
   ]
  },
  {
   "cell_type": "code",
   "execution_count": 3,
   "id": "4c7a04e9-2ad0-4c0b-ba7b-4cff9e0ca872",
   "metadata": {},
   "outputs": [
    {
     "name": "stdin",
     "output_type": "stream",
     "text": [
      "Enter the string #\n"
     ]
    },
    {
     "name": "stdout",
     "output_type": "stream",
     "text": [
      ":: Uppercase ::\n"
     ]
    }
   ],
   "source": [
    "#Q25. Write a Python script to determine the type of a character (uppercase, lowercase, or special) using elif statements.\n",
    "\n",
    "\n",
    "str1=str(input(\"Enter the string\"))\n",
    "if str1==str1.upper():\n",
    "    print(\":: Uppercase ::\")\n",
    "elif str1==str1.lower():\n",
    "    print(\":: Lowercase ::\")\n",
    "else:\n",
    "    print(\"Special Character\")"
   ]
  },
  {
   "cell_type": "markdown",
   "id": "2cf11b27-47f5-45df-8117-c2a405bb03d9",
   "metadata": {},
   "source": [
    "Take a variable to take string as user input and store it.\n",
    "\n",
    "After that with the help of if else check the folowing\n",
    "\n",
    "if  str1==str1.upper() then it will be printed as Uppercase\n",
    "\n",
    "elif str1==str1.lower() then it will be printed as Lowercase\n",
    "\n",
    "else it will be printed as String is neither upper or lower case"
   ]
  },
  {
   "cell_type": "code",
   "execution_count": 4,
   "id": "46b116eb-7a07-44a4-af77-f609794579d8",
   "metadata": {},
   "outputs": [
    {
     "name": "stdin",
     "output_type": "stream",
     "text": [
      "Enter the total value you want to check discount on  : 7500\n"
     ]
    },
    {
     "name": "stdout",
     "output_type": "stream",
     "text": [
      ":: Discounted Amount :: 6375.0\n"
     ]
    }
   ],
   "source": [
    "#Q26. Implement a program to calculate the discounted price based on different purchase amounts using elif statements.\n",
    "\n",
    "\n",
    "def check_discount(x):\n",
    "    if x>0 and x<1000:\n",
    "        print(\":: Discounted Amount ::\",x*0.95)\n",
    "    elif x>1000 and x<3000:\n",
    "        print(\":: Discounted Amount ::\",x*0.90)\n",
    "    elif x>3000 and x<10000:\n",
    "        print(\":: Discounted Amount ::\",x*0.85)\n",
    "    elif x>10000:\n",
    "        print(\":: Discounted Amount ::\",x*0.75)\n",
    "    else:\n",
    "        print(\":: The Price is invalid ::\")\n",
    "        \n",
    "x=int(input(\"Enter the total value you want to check discount on  :\"))\n",
    "check_discount(x)"
   ]
  },
  {
   "cell_type": "markdown",
   "id": "04d5a4ca-1951-4b8a-ad65-9a11798e61b8",
   "metadata": {},
   "source": [
    "Firstly take a input from user and store in a varible \n",
    "\n",
    "Now call the function check_discount with argument x.\n",
    "\n",
    "In function check the discount  with the help of conditional element.\n",
    "\n",
    "Now according to the conditional staments print the  discount value according to the purchase amount  ."
   ]
  },
  {
   "cell_type": "code",
   "execution_count": 1,
   "id": "2f6a4a71-2f51-46c8-98d2-8d54d3f41bd0",
   "metadata": {},
   "outputs": [
    {
     "name": "stdin",
     "output_type": "stream",
     "text": [
      "Enter your unit:  320\n"
     ]
    },
    {
     "name": "stdout",
     "output_type": "stream",
     "text": [
      "Bill Per Unit: 2038.4\n",
      "Bill after adding Line rent: 2502.4\n",
      "Bill after adding Meter rent: 2602.4\n",
      "Total Bill after adding tax: 3018.784\n"
     ]
    }
   ],
   "source": [
    "#Q27. Develop a program to calculate the electricity bill based on different consumption slabs using elif statements.\n",
    "\n",
    "\n",
    "\n",
    "unit = int(input(\"Enter your unit: \"))\n",
    "if unit <= 100:\n",
    "    bill = unit * 3.46\n",
    "elif unit >= 101 and unit <= 300:\n",
    "    bill = 346 + ((unit - 100) * 7.43)\n",
    "elif unit >= 301 and unit <= 500:\n",
    "    bill = 346 + 1486 + ((unit - 300) * 10.32)\n",
    "else:\n",
    "    bill = 346 + 1486 + 2064 + ((unit - 500) * 11.71)\n",
    "print(\"Bill Per Unit:\",bill)\n",
    "bill = bill + (unit*1.45)\n",
    "print(\"Bill after adding Line rent:\",bill)\n",
    "bill = bill + 100\n",
    "print(\"Bill after adding Meter rent:\",bill)\n",
    "bill = bill + (bill*0.16)\n",
    "print(\"Total Bill after adding tax:\",bill)"
   ]
  },
  {
   "cell_type": "markdown",
   "id": "a2754f3f-74d2-4094-b485-929de786a88d",
   "metadata": {},
   "source": [
    "Here firstly, we are taking the unit as input from the user.\n",
    "\n",
    "Now we are applying if and else according to the conditions given below :\n",
    "\n",
    "                        If unit consumed <= 100 then cost per unit is Rs 3.46\n",
    "\n",
    "                        If unit consumed >= 101 and <= 300 then cost per unit is Rs 7.43\n",
    "                        \n",
    "                        If unit consumed >= 301 and <= 500 then cost per unit is Rs 10.32\n",
    "                        \n",
    "                        If unit consumed >= 501 then the cost per unit is Rs 11.71\n",
    "                        \n",
    "                        Line rent is Rs 1.45 per unit.\n",
    "                        \n",
    "                        Additional fixed Meter rent is Rs 100.\n",
    "                        \n",
    "                        The tax on the bill is 16 percent which can be taken as 0.16.                "
   ]
  },
  {
   "cell_type": "code",
   "execution_count": 5,
   "id": "6400044a-d107-4bcf-a0b1-4183ccc8a5bf",
   "metadata": {},
   "outputs": [
    {
     "name": "stdin",
     "output_type": "stream",
     "text": [
      "Enter the first side :  8\n",
      "Enter the second side :  6\n",
      "Enter the third side :  8\n",
      "Enter the fourth side :  6\n",
      "Enter the first angle :  120\n",
      "Enter the second angle :  60\n",
      "Enter the third angle :  120\n",
      "Enter the fourth angle :  60\n"
     ]
    },
    {
     "name": "stdout",
     "output_type": "stream",
     "text": [
      "::Parallelogram::\n"
     ]
    }
   ],
   "source": [
    "#28. Create a program to determine the type of quadrilateral based on its angles and sides using elif statements.\n",
    "\n",
    "def check_quad (a,b,c,d,w,x,y,z):\n",
    "    if a==b==c==d and w==x==y==z:\n",
    "        print(\"::Square::\")\n",
    "    elif a==b==c==d and w==y and x==z:\n",
    "        print(\"::Rectangle::\")\n",
    "    elif a==c and b==d and w==y and x==z:\n",
    "        print(\"::Parallelogram::\")\n",
    "    elif a==c and b==d and w==x==y==z:\n",
    "        print(\"::Rombus::\")\n",
    "    else:\n",
    "        print(\"::Quadrilateral::\")\n",
    "        \n",
    "        \n",
    "w=int(input(\"Enter the first side : \"))\n",
    "x=int(input(\"Enter the second side : \"))\n",
    "y=int(input(\"Enter the third side : \"))\n",
    "z=int(input(\"Enter the fourth side : \"))\n",
    "a=int(input(\"Enter the first angle : \"))\n",
    "b=int(input(\"Enter the second angle : \"))\n",
    "c=int(input(\"Enter the third angle : \"))\n",
    "d=int(input(\"Enter the fourth angle : \"))\n",
    "if (a+b+c+d)==360:\n",
    "    check_quad (a,b,c,d,w,x,y,z)\n",
    "else:\n",
    "    print(\"Invalid Input\")"
   ]
  },
  {
   "cell_type": "markdown",
   "id": "039644d3-364b-4c9b-9411-695319426138",
   "metadata": {},
   "source": [
    "Here firstly, we are taking the unit as input from the user for the sides & angles of the quadilateral.\n",
    "\n",
    "Now we are applying if and else according to the conditions given below but before we will check that sum of angles is equal to 360 or not and if  true check the below else invalid:\n",
    "\n",
    "                        If all sides and all angles are equal then print Square\n",
    "\n",
    "                        If first & third side and second & third side are equal and all angles are equal then print Rectangle\n",
    "                        \n",
    "                        If first & third side and second & third side are equal and first & third angle and second & third angle then \n",
    "                        print Parallelogram\n",
    "                        \n",
    "                        If all sides are equal and first & third angle and second & third angle then print Rombus\n",
    "                        \n",
    "                        Else Quadilateral"
   ]
  },
  {
   "cell_type": "code",
   "execution_count": 13,
   "id": "69129c03-3d58-4a2b-b424-465023dd0821",
   "metadata": {},
   "outputs": [
    {
     "name": "stdin",
     "output_type": "stream",
     "text": [
      "Enter the month name : January\n"
     ]
    },
    {
     "name": "stdout",
     "output_type": "stream",
     "text": [
      "::Winter Season ::\n"
     ]
    }
   ],
   "source": [
    "def check_season(a):\n",
    "    winter=[\"december\",\"january\",\"feburary\"]\n",
    "    spring=[\"march\",\"april\",\"may\"]\n",
    "    summer=[\"june\",\"july\",\"august\"]\n",
    "    autmn=[\"september\",\"october\",\"november\"]\n",
    "    if a in winter:\n",
    "         print(\"::Winter Season ::\")\n",
    "    elif a in spring:\n",
    "         print(\"::Spring Season ::\")\n",
    "    elif a in summer:\n",
    "         print(\"::Summer Season ::\")\n",
    "    elif a in autmn:\n",
    "         print(\"::Autmn Season ::\")\n",
    "    else:\n",
    "        print(\":: Invalid ::\")\n",
    "        \n",
    "        \n",
    "        \n",
    "a=str(input(\"Enter the month name :\"))\n",
    "a=a.lower()\n",
    "check_season(a)"
   ]
  },
  {
   "cell_type": "markdown",
   "id": "2bd2bcad-ae4d-423b-b3fc-780f14dbc9be",
   "metadata": {},
   "source": [
    "We will define a function and define 4 variable with the name of seasons and store the list of month which comes in that season.\n",
    "\n",
    "Now implement the following with the help of conditional statement:\n",
    "\n",
    "\n",
    "                        if  the passed string is in winter then print Winter Season\n",
    "\n",
    "                        else  check wether it present in spring then Spring Season\n",
    "            \n",
    "                        else  check wether it present in autmn then Autmn Season            \n",
    "                        \n",
    "                        else  Invalid\n",
    "                    \n",
    "Now in the the drivers code define a variale and take input from the user & call the function."
   ]
  },
  {
   "cell_type": "code",
   "execution_count": 12,
   "id": "3cd7ccf6-c800-40af-b2af-07fc796dd6f8",
   "metadata": {},
   "outputs": [
    {
     "name": "stdin",
     "output_type": "stream",
     "text": [
      "Enter the month name : January\n"
     ]
    },
    {
     "name": "stdout",
     "output_type": "stream",
     "text": [
      ":: Thirty One days ::\n"
     ]
    }
   ],
   "source": [
    "def check_dates(a):\n",
    "    thirty_one=[\"january\",\"march\",\"may\",\"july\",\"august\",\"october\",\"december\"]\n",
    "    thirty=[\"april\",\"june\",\"september\",\"november\"]\n",
    "    if a==\"feburary\":\n",
    "        print(\":: Twenty eight / Twenty nine days ::\")\n",
    "    elif a in thirty_one:\n",
    "        print(\":: Thirty One days ::\")\n",
    "    elif a in thirty:\n",
    "        (\":: Thirty days ::\")\n",
    "    else:\n",
    "        print(\":: Invalid ::\")\n",
    "        \n",
    "\n",
    "\n",
    "\n",
    "\n",
    "a=str(input(\"Enter the month name :\"))\n",
    "a=a.lower()\n",
    "check_dates(a)"
   ]
  },
  {
   "cell_type": "markdown",
   "id": "64b61ac5-0fd8-4eeb-929d-37827bc36a33",
   "metadata": {},
   "source": [
    "We will define a function and define 2 variable with the name of thirty & thirty_one and store the list of month which comes in that criteria.\n",
    "\n",
    "Now implement the following with the help of conditional statement:\n",
    "\n",
    "\n",
    "                        if  the passed string is equal to Feburary then print  Twenty eight / Twenty nine days\n",
    "\n",
    "                        else  check wether it present in thirty_one then print Thirty One days\n",
    "            \n",
    "                        else  check wether it present in thirty then print Thirty days          \n",
    "                        \n",
    "                        else Invalid\n",
    "                    \n",
    "Now in the the drivers code define a variale and take input from the user & call the function."
   ]
  },
  {
   "cell_type": "code",
   "execution_count": null,
   "id": "75c93cae-cd42-4681-b92d-35e516eee838",
   "metadata": {},
   "outputs": [],
   "source": []
  }
 ],
 "metadata": {
  "kernelspec": {
   "display_name": "Python 3 (ipykernel)",
   "language": "python",
   "name": "python3"
  },
  "language_info": {
   "codemirror_mode": {
    "name": "ipython",
    "version": 3
   },
   "file_extension": ".py",
   "mimetype": "text/x-python",
   "name": "python",
   "nbconvert_exporter": "python",
   "pygments_lexer": "ipython3",
   "version": "3.10.8"
  }
 },
 "nbformat": 4,
 "nbformat_minor": 5
}
